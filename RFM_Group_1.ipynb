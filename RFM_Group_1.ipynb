{
 "cells": [
  {
   "cell_type": "code",
   "execution_count": 53,
   "id": "841fee81-46a4-4d84-a969-57d2f3a7c918",
   "metadata": {},
   "outputs": [],
   "source": [
    "# importing packages\n",
    "import datetime as dt\n",
    "import pandas as pd\n",
    "import numpy as np\n",
    "import seaborn as sns\n",
    "import matplotlib.pyplot as plt\n",
    "import squarify\n",
    "from wordcloud import WordCloud, STOPWORDS\n",
    "from PIL import Image\n",
    "import plotly.express as px\n",
    "import warnings\n",
    "warnings.filterwarnings('ignore')"
   ]
  },
  {
   "cell_type": "markdown",
   "id": "c087b267-dc3b-440b-8b80-229749c0a50a",
   "metadata": {},
   "source": [
    "# RFM for Online Retail"
   ]
  },
  {
   "cell_type": "markdown",
   "id": "e3bc4797-2454-4bd5-9415-795aa91a9bb0",
   "metadata": {},
   "source": [
    "**Background**\n",
    "\n",
    "Contoso is an online retail store based in the UK, and it has grown to become one of the leading shopping platforms serving customers across various countries. Since its establishment, Contoso has been committed to offering a wide range of high-quality products, including the latest technology, fashionable clothing, and everyday essentials. With a strong focus on providing convenience and an exceptional online shopping experience, Contoso has built a reputation as a reliable shopping destination for consumers from all walks of life.\n",
    "\n",
    "With a diverse product catalog, Contoso offers a wide selection ranging from cutting-edge electronics, home appliances, lifestyle accessories, clothing, to health and beauty products. The store continually updates its collection to ensure customers always have access to the latest and best products available in the market.\n",
    "\n",
    "Support for various payment methods, fast shipping, and an easy return policy make shopping at Contoso a satisfying experience. Not only in the UK, Contoso also serves international customers by offering global shipping and customer support in multiple languages.\n",
    "\n",
    "Customers can easily navigate the user-friendly Contoso website, which makes it simple to find desired products, along with attractive offers such as discounts, seasonal promotions, and product bundles. With a mission to reach more customers worldwide, Contoso continues to expand its market reach and innovate to meet the ever-evolving shopping needs."
   ]
  },
  {
   "cell_type": "markdown",
   "id": "c357fd65-983a-425e-8ee6-2f53e33cbb4e",
   "metadata": {},
   "source": [
    "**Problem Statement**\n",
    "\n",
    "- Contoso aims to enhance its marketing strategies and improve customer retention by gaining a deeper understanding of its customer base in UK.\n",
    "- To achieve this, the stakeholders at Contoso want to perform an RFM (Recency, Frequency, Monetary) analysis. This analysis will allow Contoso to identify customer segments with an emphasis on recency to induce higher repeat purchase\n"
   ]
  },
  {
   "cell_type": "markdown",
   "id": "4250222e-7b6b-4992-b355-5d96931843f4",
   "metadata": {},
   "source": [
    "**Objective of Analysis**\n",
    "\n",
    "1.\tEnhance Marketing Strategies: Utilize the insights gained from the RFM analysis to refine and enhance Contoso's marketing strategies, ensuring they are more targeted and effective.\n",
    "2.\tImprove Customer Loyalty: Identify key customer segments that could potentially be upgraded to higher tier of loyalty\n",
    "3.\tProvide Actionable Insights: Generate actionable insights that can help Contoso make data-driven decisions to optimize overall business performance and customer satisfaction.\n"
   ]
  },
  {
   "cell_type": "code",
   "execution_count": 2,
   "id": "a8d6eb17-95d3-4460-aa33-5330fb4d4eff",
   "metadata": {},
   "outputs": [
    {
     "name": "stdout",
     "output_type": "stream",
     "text": [
      "The number of rows for excel_df1 is 525461 and the number of columns for excel_df1 is 8 columns.\n",
      "The number of rows for excel_df2 is 541910 and the number of columns for excel_df2 is 8 columns.\n"
     ]
    }
   ],
   "source": [
    "# import the dataset\n",
    "excel_df1 = pd.read_excel('online_retail_II.xlsx', sheet_name='Year 2009-2010', parse_dates=['InvoiceDate'])\n",
    "excel_df2 = pd.read_excel('online_retail_II.xlsx', sheet_name='Year 2010-2011', parse_dates=['InvoiceDate'])\n",
    "\n",
    "print(f\"The number of rows for excel_df1 is {excel_df1.shape[0]} and the number of columns for excel_df1 is {excel_df1.shape[1]} columns.\")\n",
    "print(f\"The number of rows for excel_df2 is {excel_df2.shape[0]} and the number of columns for excel_df2 is {excel_df2.shape[1]} columns.\")"
   ]
  },
  {
   "cell_type": "code",
   "execution_count": 26,
   "id": "2f03aeec-a4bb-4a6c-a6c4-5e3868a9d3c7",
   "metadata": {},
   "outputs": [
    {
     "data": {
      "text/html": [
       "<div>\n",
       "<style scoped>\n",
       "    .dataframe tbody tr th:only-of-type {\n",
       "        vertical-align: middle;\n",
       "    }\n",
       "\n",
       "    .dataframe tbody tr th {\n",
       "        vertical-align: top;\n",
       "    }\n",
       "\n",
       "    .dataframe thead th {\n",
       "        text-align: right;\n",
       "    }\n",
       "</style>\n",
       "<table border=\"1\" class=\"dataframe\">\n",
       "  <thead>\n",
       "    <tr style=\"text-align: right;\">\n",
       "      <th></th>\n",
       "      <th>Invoice</th>\n",
       "      <th>StockCode</th>\n",
       "      <th>Description</th>\n",
       "      <th>Quantity</th>\n",
       "      <th>InvoiceDate</th>\n",
       "      <th>Price</th>\n",
       "      <th>Customer ID</th>\n",
       "      <th>Country</th>\n",
       "    </tr>\n",
       "  </thead>\n",
       "  <tbody>\n",
       "    <tr>\n",
       "      <th>0</th>\n",
       "      <td>497946</td>\n",
       "      <td>37410</td>\n",
       "      <td>BLACK AND WHITE PAISLEY FLOWER MUG</td>\n",
       "      <td>19152</td>\n",
       "      <td>2010-02-15 11:57:00</td>\n",
       "      <td>0.1</td>\n",
       "      <td>13902.0</td>\n",
       "      <td>Denmark</td>\n",
       "    </tr>\n",
       "    <tr>\n",
       "      <th>1</th>\n",
       "      <td>501534</td>\n",
       "      <td>21099</td>\n",
       "      <td>SET/6 STRAWBERRY PAPER CUPS</td>\n",
       "      <td>12960</td>\n",
       "      <td>2010-03-17 13:09:00</td>\n",
       "      <td>0.1</td>\n",
       "      <td>13902.0</td>\n",
       "      <td>Denmark</td>\n",
       "    </tr>\n",
       "    <tr>\n",
       "      <th>2</th>\n",
       "      <td>501534</td>\n",
       "      <td>21091</td>\n",
       "      <td>SET/6 WOODLAND PAPER PLATES</td>\n",
       "      <td>12960</td>\n",
       "      <td>2010-03-17 13:09:00</td>\n",
       "      <td>0.1</td>\n",
       "      <td>13902.0</td>\n",
       "      <td>Denmark</td>\n",
       "    </tr>\n",
       "    <tr>\n",
       "      <th>3</th>\n",
       "      <td>501534</td>\n",
       "      <td>21085</td>\n",
       "      <td>SET/6 WOODLAND PAPER CUPS</td>\n",
       "      <td>12744</td>\n",
       "      <td>2010-03-17 13:09:00</td>\n",
       "      <td>0.1</td>\n",
       "      <td>13902.0</td>\n",
       "      <td>Denmark</td>\n",
       "    </tr>\n",
       "    <tr>\n",
       "      <th>4</th>\n",
       "      <td>501534</td>\n",
       "      <td>21092</td>\n",
       "      <td>SET/6 STRAWBERRY PAPER PLATES</td>\n",
       "      <td>12480</td>\n",
       "      <td>2010-03-17 13:09:00</td>\n",
       "      <td>0.1</td>\n",
       "      <td>13902.0</td>\n",
       "      <td>Denmark</td>\n",
       "    </tr>\n",
       "  </tbody>\n",
       "</table>\n",
       "</div>"
      ],
      "text/plain": [
       "  Invoice StockCode                         Description  Quantity  \\\n",
       "0  497946     37410  BLACK AND WHITE PAISLEY FLOWER MUG     19152   \n",
       "1  501534     21099         SET/6 STRAWBERRY PAPER CUPS     12960   \n",
       "2  501534     21091         SET/6 WOODLAND PAPER PLATES     12960   \n",
       "3  501534     21085           SET/6 WOODLAND PAPER CUPS     12744   \n",
       "4  501534     21092       SET/6 STRAWBERRY PAPER PLATES     12480   \n",
       "\n",
       "          InvoiceDate  Price  Customer ID  Country  \n",
       "0 2010-02-15 11:57:00    0.1      13902.0  Denmark  \n",
       "1 2010-03-17 13:09:00    0.1      13902.0  Denmark  \n",
       "2 2010-03-17 13:09:00    0.1      13902.0  Denmark  \n",
       "3 2010-03-17 13:09:00    0.1      13902.0  Denmark  \n",
       "4 2010-03-17 13:09:00    0.1      13902.0  Denmark  "
      ]
     },
     "metadata": {},
     "output_type": "display_data"
    },
    {
     "name": "stdout",
     "output_type": "stream",
     "text": [
      "The numbers of rows and columns for the combined dataframe are 1067371 rows and 8 columns.\n"
     ]
    }
   ],
   "source": [
    "df = pd.concat([excel_df1, excel_df2], axis=0, join='inner')\n",
    "display(df.head())\n",
    "\n",
    "print(f\"The numbers of rows and columns for the combined dataframe are {df.shape[0]} rows and {df.shape[1]} columns.\")"
   ]
  },
  {
   "cell_type": "code",
   "execution_count": 27,
   "id": "f8c6e7b2-d67c-4a0d-8508-48da385fe71b",
   "metadata": {},
   "outputs": [
    {
     "data": {
      "text/plain": [
       "Invoice             0\n",
       "StockCode           0\n",
       "Description      4382\n",
       "Quantity            0\n",
       "InvoiceDate         0\n",
       "Price               0\n",
       "Customer ID    243007\n",
       "Country             0\n",
       "dtype: int64"
      ]
     },
     "execution_count": 27,
     "metadata": {},
     "output_type": "execute_result"
    }
   ],
   "source": [
    "# check for missing column\n",
    "df.isna().sum()"
   ]
  },
  {
   "cell_type": "code",
   "execution_count": 28,
   "id": "ec2afd1d-96e7-48d7-9e2b-54a533da81c4",
   "metadata": {},
   "outputs": [
    {
     "data": {
      "text/plain": [
       "Invoice        0\n",
       "StockCode      0\n",
       "Description    0\n",
       "Quantity       0\n",
       "InvoiceDate    0\n",
       "Price          0\n",
       "Customer ID    0\n",
       "Country        0\n",
       "dtype: int64"
      ]
     },
     "execution_count": 28,
     "metadata": {},
     "output_type": "execute_result"
    }
   ],
   "source": [
    "df.dropna(inplace = True)\n",
    "df.isna().sum()"
   ]
  },
  {
   "cell_type": "code",
   "execution_count": 29,
   "id": "78d6ce1b-3554-44d5-9523-cfc3456650b9",
   "metadata": {},
   "outputs": [
    {
     "name": "stdout",
     "output_type": "stream",
     "text": [
      "There are 26479 rows with duplicated values\n",
      "There are now 0 duplicated rows on the dataframe.\n"
     ]
    }
   ],
   "source": [
    "# check for duplicated value\n",
    "print(f'There are {df.duplicated().sum()} rows with duplicated values')\n",
    "\n",
    "# filter out duplicated value\n",
    "df.drop_duplicates(inplace=True)\n",
    "print(f'There are now {df.duplicated().sum()} duplicated rows on the dataframe.')"
   ]
  },
  {
   "cell_type": "code",
   "execution_count": 30,
   "id": "a722d425-ca94-48e8-9a5c-f379413154b4",
   "metadata": {},
   "outputs": [
    {
     "name": "stdout",
     "output_type": "stream",
     "text": [
      "<class 'pandas.core.frame.DataFrame'>\n",
      "Index: 797885 entries, 0 to 541909\n",
      "Data columns (total 8 columns):\n",
      " #   Column       Non-Null Count   Dtype         \n",
      "---  ------       --------------   -----         \n",
      " 0   Invoice      797885 non-null  object        \n",
      " 1   StockCode    797885 non-null  object        \n",
      " 2   Description  797885 non-null  object        \n",
      " 3   Quantity     797885 non-null  int64         \n",
      " 4   InvoiceDate  797885 non-null  datetime64[ns]\n",
      " 5   Price        797885 non-null  float64       \n",
      " 6   Customer ID  797885 non-null  object        \n",
      " 7   Country      797885 non-null  object        \n",
      "dtypes: datetime64[ns](1), float64(1), int64(1), object(5)\n",
      "memory usage: 54.8+ MB\n"
     ]
    },
    {
     "data": {
      "text/plain": [
       "None"
      ]
     },
     "metadata": {},
     "output_type": "display_data"
    }
   ],
   "source": [
    "# revert customer id column into int to eliminate decimal\n",
    "df['Customer ID'] = df['Customer ID'].astype('int')\n",
    "\n",
    "# converting some columns into categorical data\n",
    "for col in ['Invoice', 'StockCode', 'Country', 'Customer ID', 'Description']:\n",
    "    df[col] = df[col].astype('str')\n",
    "\n",
    "# displaying columns info\n",
    "display(df.info())"
   ]
  },
  {
   "cell_type": "code",
   "execution_count": 31,
   "id": "69794918-8803-46f9-b814-a912058011c3",
   "metadata": {},
   "outputs": [
    {
     "data": {
      "text/html": [
       "<div>\n",
       "<style scoped>\n",
       "    .dataframe tbody tr th:only-of-type {\n",
       "        vertical-align: middle;\n",
       "    }\n",
       "\n",
       "    .dataframe tbody tr th {\n",
       "        vertical-align: top;\n",
       "    }\n",
       "\n",
       "    .dataframe thead th {\n",
       "        text-align: right;\n",
       "    }\n",
       "</style>\n",
       "<table border=\"1\" class=\"dataframe\">\n",
       "  <thead>\n",
       "    <tr style=\"text-align: right;\">\n",
       "      <th></th>\n",
       "      <th>count</th>\n",
       "      <th>mean</th>\n",
       "      <th>min</th>\n",
       "      <th>25%</th>\n",
       "      <th>50%</th>\n",
       "      <th>75%</th>\n",
       "      <th>max</th>\n",
       "      <th>std</th>\n",
       "    </tr>\n",
       "  </thead>\n",
       "  <tbody>\n",
       "    <tr>\n",
       "      <th>Quantity</th>\n",
       "      <td>797885.0</td>\n",
       "      <td>12.60298</td>\n",
       "      <td>-80995.0</td>\n",
       "      <td>2.0</td>\n",
       "      <td>5.0</td>\n",
       "      <td>12.0</td>\n",
       "      <td>80995.0</td>\n",
       "      <td>191.670371</td>\n",
       "    </tr>\n",
       "    <tr>\n",
       "      <th>InvoiceDate</th>\n",
       "      <td>797885</td>\n",
       "      <td>2011-01-02 13:17:34.141160448</td>\n",
       "      <td>2009-12-01 07:45:00</td>\n",
       "      <td>2010-07-02 09:47:00</td>\n",
       "      <td>2010-12-02 12:33:00</td>\n",
       "      <td>2011-07-31 15:50:00</td>\n",
       "      <td>2011-12-09 12:50:00</td>\n",
       "      <td>NaN</td>\n",
       "    </tr>\n",
       "    <tr>\n",
       "      <th>Price</th>\n",
       "      <td>797885.0</td>\n",
       "      <td>3.702732</td>\n",
       "      <td>0.0</td>\n",
       "      <td>1.25</td>\n",
       "      <td>1.95</td>\n",
       "      <td>3.75</td>\n",
       "      <td>38970.0</td>\n",
       "      <td>71.392549</td>\n",
       "    </tr>\n",
       "  </tbody>\n",
       "</table>\n",
       "</div>"
      ],
      "text/plain": [
       "                count                           mean                  min  \\\n",
       "Quantity     797885.0                       12.60298             -80995.0   \n",
       "InvoiceDate    797885  2011-01-02 13:17:34.141160448  2009-12-01 07:45:00   \n",
       "Price        797885.0                       3.702732                  0.0   \n",
       "\n",
       "                             25%                  50%                  75%  \\\n",
       "Quantity                     2.0                  5.0                 12.0   \n",
       "InvoiceDate  2010-07-02 09:47:00  2010-12-02 12:33:00  2011-07-31 15:50:00   \n",
       "Price                       1.25                 1.95                 3.75   \n",
       "\n",
       "                             max         std  \n",
       "Quantity                 80995.0  191.670371  \n",
       "InvoiceDate  2011-12-09 12:50:00         NaN  \n",
       "Price                    38970.0   71.392549  "
      ]
     },
     "execution_count": 31,
     "metadata": {},
     "output_type": "execute_result"
    }
   ],
   "source": [
    "# check the stats of numerical columns\n",
    "df.describe().T"
   ]
  },
  {
   "cell_type": "code",
   "execution_count": 32,
   "id": "5127a23e-2cd7-4c4e-8015-b0de6981e79e",
   "metadata": {},
   "outputs": [],
   "source": [
    "# filter out invoice which contains C as it indicates return invoices\n",
    "df = df[~df[\"Invoice\"].str.contains(\"C\", na = False)]"
   ]
  },
  {
   "cell_type": "code",
   "execution_count": 33,
   "id": "87fce7f3-520a-4a31-9b2b-9fc2eb97ed6c",
   "metadata": {},
   "outputs": [
    {
     "data": {
      "text/plain": [
       "count    779495.000000\n",
       "mean         13.507085\n",
       "min           1.000000\n",
       "25%           2.000000\n",
       "50%           6.000000\n",
       "75%          12.000000\n",
       "max       80995.000000\n",
       "std         146.540284\n",
       "Name: Quantity, dtype: float64"
      ]
     },
     "execution_count": 33,
     "metadata": {},
     "output_type": "execute_result"
    }
   ],
   "source": [
    "# checking the quantity column for validation\n",
    "df.describe()['Quantity']"
   ]
  },
  {
   "cell_type": "code",
   "execution_count": 34,
   "id": "ef0d6b93-b873-49ef-8bbc-96bf4baeb907",
   "metadata": {},
   "outputs": [
    {
     "data": {
      "text/html": [
       "<div>\n",
       "<style scoped>\n",
       "    .dataframe tbody tr th:only-of-type {\n",
       "        vertical-align: middle;\n",
       "    }\n",
       "\n",
       "    .dataframe tbody tr th {\n",
       "        vertical-align: top;\n",
       "    }\n",
       "\n",
       "    .dataframe thead th {\n",
       "        text-align: right;\n",
       "    }\n",
       "</style>\n",
       "<table border=\"1\" class=\"dataframe\">\n",
       "  <thead>\n",
       "    <tr style=\"text-align: right;\">\n",
       "      <th></th>\n",
       "      <th>Invoice</th>\n",
       "      <th>StockCode</th>\n",
       "      <th>Description</th>\n",
       "      <th>Quantity</th>\n",
       "      <th>InvoiceDate</th>\n",
       "      <th>Price</th>\n",
       "      <th>Customer ID</th>\n",
       "      <th>Country</th>\n",
       "      <th>total_sales</th>\n",
       "    </tr>\n",
       "  </thead>\n",
       "  <tbody>\n",
       "    <tr>\n",
       "      <th>0</th>\n",
       "      <td>497946</td>\n",
       "      <td>37410</td>\n",
       "      <td>BLACK AND WHITE PAISLEY FLOWER MUG</td>\n",
       "      <td>19152</td>\n",
       "      <td>2010-02-15 11:57:00</td>\n",
       "      <td>0.1</td>\n",
       "      <td>13902</td>\n",
       "      <td>Denmark</td>\n",
       "      <td>1915.2</td>\n",
       "    </tr>\n",
       "    <tr>\n",
       "      <th>1</th>\n",
       "      <td>501534</td>\n",
       "      <td>21099</td>\n",
       "      <td>SET/6 STRAWBERRY PAPER CUPS</td>\n",
       "      <td>12960</td>\n",
       "      <td>2010-03-17 13:09:00</td>\n",
       "      <td>0.1</td>\n",
       "      <td>13902</td>\n",
       "      <td>Denmark</td>\n",
       "      <td>1296.0</td>\n",
       "    </tr>\n",
       "    <tr>\n",
       "      <th>2</th>\n",
       "      <td>501534</td>\n",
       "      <td>21091</td>\n",
       "      <td>SET/6 WOODLAND PAPER PLATES</td>\n",
       "      <td>12960</td>\n",
       "      <td>2010-03-17 13:09:00</td>\n",
       "      <td>0.1</td>\n",
       "      <td>13902</td>\n",
       "      <td>Denmark</td>\n",
       "      <td>1296.0</td>\n",
       "    </tr>\n",
       "    <tr>\n",
       "      <th>3</th>\n",
       "      <td>501534</td>\n",
       "      <td>21085</td>\n",
       "      <td>SET/6 WOODLAND PAPER CUPS</td>\n",
       "      <td>12744</td>\n",
       "      <td>2010-03-17 13:09:00</td>\n",
       "      <td>0.1</td>\n",
       "      <td>13902</td>\n",
       "      <td>Denmark</td>\n",
       "      <td>1274.4</td>\n",
       "    </tr>\n",
       "    <tr>\n",
       "      <th>4</th>\n",
       "      <td>501534</td>\n",
       "      <td>21092</td>\n",
       "      <td>SET/6 STRAWBERRY PAPER PLATES</td>\n",
       "      <td>12480</td>\n",
       "      <td>2010-03-17 13:09:00</td>\n",
       "      <td>0.1</td>\n",
       "      <td>13902</td>\n",
       "      <td>Denmark</td>\n",
       "      <td>1248.0</td>\n",
       "    </tr>\n",
       "  </tbody>\n",
       "</table>\n",
       "</div>"
      ],
      "text/plain": [
       "  Invoice StockCode                         Description  Quantity  \\\n",
       "0  497946     37410  BLACK AND WHITE PAISLEY FLOWER MUG     19152   \n",
       "1  501534     21099         SET/6 STRAWBERRY PAPER CUPS     12960   \n",
       "2  501534     21091         SET/6 WOODLAND PAPER PLATES     12960   \n",
       "3  501534     21085           SET/6 WOODLAND PAPER CUPS     12744   \n",
       "4  501534     21092       SET/6 STRAWBERRY PAPER PLATES     12480   \n",
       "\n",
       "          InvoiceDate  Price Customer ID  Country  total_sales  \n",
       "0 2010-02-15 11:57:00    0.1       13902  Denmark       1915.2  \n",
       "1 2010-03-17 13:09:00    0.1       13902  Denmark       1296.0  \n",
       "2 2010-03-17 13:09:00    0.1       13902  Denmark       1296.0  \n",
       "3 2010-03-17 13:09:00    0.1       13902  Denmark       1274.4  \n",
       "4 2010-03-17 13:09:00    0.1       13902  Denmark       1248.0  "
      ]
     },
     "metadata": {},
     "output_type": "display_data"
    },
    {
     "data": {
      "text/html": [
       "<div>\n",
       "<style scoped>\n",
       "    .dataframe tbody tr th:only-of-type {\n",
       "        vertical-align: middle;\n",
       "    }\n",
       "\n",
       "    .dataframe tbody tr th {\n",
       "        vertical-align: top;\n",
       "    }\n",
       "\n",
       "    .dataframe thead th {\n",
       "        text-align: right;\n",
       "    }\n",
       "</style>\n",
       "<table border=\"1\" class=\"dataframe\">\n",
       "  <thead>\n",
       "    <tr style=\"text-align: right;\">\n",
       "      <th></th>\n",
       "      <th>count</th>\n",
       "      <th>mean</th>\n",
       "      <th>min</th>\n",
       "      <th>25%</th>\n",
       "      <th>50%</th>\n",
       "      <th>75%</th>\n",
       "      <th>max</th>\n",
       "      <th>std</th>\n",
       "    </tr>\n",
       "  </thead>\n",
       "  <tbody>\n",
       "    <tr>\n",
       "      <th>Quantity</th>\n",
       "      <td>779495.0</td>\n",
       "      <td>13.507085</td>\n",
       "      <td>1.0</td>\n",
       "      <td>2.0</td>\n",
       "      <td>6.0</td>\n",
       "      <td>12.0</td>\n",
       "      <td>80995.0</td>\n",
       "      <td>146.540284</td>\n",
       "    </tr>\n",
       "    <tr>\n",
       "      <th>InvoiceDate</th>\n",
       "      <td>779495</td>\n",
       "      <td>2011-01-03 01:46:36.061116416</td>\n",
       "      <td>2009-12-01 07:45:00</td>\n",
       "      <td>2010-07-02 14:39:00</td>\n",
       "      <td>2010-12-02 14:09:00</td>\n",
       "      <td>2011-08-01 13:48:00</td>\n",
       "      <td>2011-12-09 12:50:00</td>\n",
       "      <td>NaN</td>\n",
       "    </tr>\n",
       "    <tr>\n",
       "      <th>total_sales</th>\n",
       "      <td>779495.0</td>\n",
       "      <td>22.289821</td>\n",
       "      <td>0.0</td>\n",
       "      <td>4.95</td>\n",
       "      <td>12.48</td>\n",
       "      <td>19.8</td>\n",
       "      <td>168469.6</td>\n",
       "      <td>227.416962</td>\n",
       "    </tr>\n",
       "  </tbody>\n",
       "</table>\n",
       "</div>"
      ],
      "text/plain": [
       "                count                           mean                  min  \\\n",
       "Quantity     779495.0                      13.507085                  1.0   \n",
       "InvoiceDate    779495  2011-01-03 01:46:36.061116416  2009-12-01 07:45:00   \n",
       "total_sales  779495.0                      22.289821                  0.0   \n",
       "\n",
       "                             25%                  50%                  75%  \\\n",
       "Quantity                     2.0                  6.0                 12.0   \n",
       "InvoiceDate  2010-07-02 14:39:00  2010-12-02 14:09:00  2011-08-01 13:48:00   \n",
       "total_sales                 4.95                12.48                 19.8   \n",
       "\n",
       "                             max         std  \n",
       "Quantity                 80995.0  146.540284  \n",
       "InvoiceDate  2011-12-09 12:50:00         NaN  \n",
       "total_sales             168469.6  227.416962  "
      ]
     },
     "metadata": {},
     "output_type": "display_data"
    }
   ],
   "source": [
    "# create total_sales column to calculate the total amount for each order\n",
    "df['total_sales'] = df['Quantity'] * df['Price']\n",
    "display(df.head())\n",
    "display(df.describe()[['Quantity', 'InvoiceDate', 'total_sales']].T)"
   ]
  },
  {
   "cell_type": "code",
   "execution_count": 35,
   "id": "2a2977d2-2645-4731-8def-dc765520574a",
   "metadata": {},
   "outputs": [
    {
     "data": {
      "image/png": "[encoded data removed]",
      "text/plain": [
       "<Figure size 640x480 with 1 Axes>"
      ]
     },
     "metadata": {},
     "output_type": "display_data"
    }
   ],
   "source": [
    "# creating a pie chart for proportion of country in the dataframe\n",
    "\n",
    "#defining dataframe of countries\n",
    "df_pie = df['Country'].value_counts().reset_index()\n",
    "df_pie['Country'] = df_pie.apply(lambda row: 'Others' if row['count'] < 50000 else row['Country'], axis=1)\n",
    "df_pie = df_pie.groupby('Country')['count'].sum().reset_index()\n",
    "df_pie\n",
    "# define Seaborn color palette to use \n",
    "palette_color = sns.color_palette('BuPu_r')\n",
    "\n",
    "# plotting data on chart \n",
    "plt.pie(df_pie['count'], labels=df_pie['Country'], explode = [0.3,0], colors=palette_color, autopct='%.0f%%')\n",
    "\n",
    "# Customize the plot\n",
    "plt.title('Country Distribution of Orders', fontsize = 20)\n",
    "\n",
    "# displaying chart \n",
    "plt.show() "
   ]
  },
  {
   "cell_type": "code",
   "execution_count": 72,
   "id": "fce0100c-59de-46fd-8d77-83e9d7e6d1c7",
   "metadata": {},
   "outputs": [
    {
     "data": {
      "image/png": "[encoded data removed]",
      "text/plain": [
       "<Figure size 1200x600 with 1 Axes>"
      ]
     },
     "metadata": {},
     "output_type": "display_data"
    }
   ],
   "source": [
    "# copying the dataframe into a second dataframe for lineplot visualization\n",
    "df2 =df.copy()\n",
    "\n",
    "# Set InvoiceDate as the index\n",
    "df2.set_index('InvoiceDate', inplace=True)\n",
    "\n",
    "# Resample the data by quarter and sum the quantities\n",
    "quarterly_data = df2['Quantity'].resample('Q').sum()\n",
    "\n",
    "# Plot the line chart\n",
    "plt.figure(figsize=(12, 6))\n",
    "plt.plot(quarterly_data.index, quarterly_data, marker='o', linestyle='-')\n",
    "plt.title('Total Sales per Quarter', fontsize=20)\n",
    "plt.xlabel('Invoice Date', fontsize = 16)\n",
    "plt.ylabel('Amount (Milions)', fontsize = 16)\n",
    "plt.grid(True)\n",
    "plt.show()"
   ]
  },
  {
   "cell_type": "code",
   "execution_count": 71,
   "id": "f0b03bd3-09db-449b-8837-99aa17ac97a1",
   "metadata": {},
   "outputs": [
    {
     "data": {
      "image/png": "[encoded data removed]",
      "text/plain": [
       "<Figure size 1000x1200 with 1 Axes>"
      ]
     },
     "metadata": {},
     "output_type": "display_data"
    }
   ],
   "source": [
    "# word cloud eda\n",
    "\n",
    "#instantiate the plot\n",
    "fig = plt.figure()\n",
    "fig.set_figwidth(10) # set width\n",
    "fig.set_figheight(12) # set height\n",
    "\n",
    "shopping_cart = np.array(Image.open('shopping-cart.png'))\n",
    "\n",
    "# set the stopwords\n",
    "stopwords = set(STOPWORDS)\n",
    "\n",
    "# instantiate a string object of the product description column\n",
    "desc = df['Description'].to_string()\n",
    "\n",
    "# instantiate a word cloud object\n",
    "product_desc = WordCloud(\n",
    "    background_color='white',\n",
    "    mask=shopping_cart,\n",
    "    max_words=2000,\n",
    "    stopwords=stopwords\n",
    ")\n",
    "\n",
    "# generate the word cloud\n",
    "product_desc.generate(desc)\n",
    "\n",
    "# display the word cloud\n",
    "plt.imshow(product_desc, interpolation='bilinear')\n",
    "plt.axis('off')\n",
    "plt.show()"
   ]
  },
  {
   "cell_type": "code",
   "execution_count": 14,
   "id": "23e87832-d3c9-406a-af63-31a4d492e39c",
   "metadata": {},
   "outputs": [
    {
     "data": {
      "text/plain": [
       "array(['United Kingdom'], dtype=object)"
      ]
     },
     "execution_count": 14,
     "metadata": {},
     "output_type": "execute_result"
    }
   ],
   "source": [
    "# filter to only inlude orders from The U.K.\n",
    "df = df[df['Country']=='United Kingdom']\n",
    "df['Country'].unique()"
   ]
  },
  {
   "cell_type": "code",
   "execution_count": 15,
   "id": "d9431420-4ace-4bce-b15d-459338b4a77c",
   "metadata": {},
   "outputs": [],
   "source": [
    "reference_date = df['InvoiceDate'].max() + dt.timedelta(days=1)"
   ]
  },
  {
   "cell_type": "markdown",
   "id": "00451809-0aec-4a64-84ab-79bb600426ac",
   "metadata": {},
   "source": [
    "## 2. Calculate RFM Metrics\n",
    "\n",
    "### Recency:\n",
    "Recency represents how recently a customer made a purchase. It is calculated by taking the difference between the current reference date (which is the latest transaction date in the dataset) and the most recent transaction date for each customer.\n",
    "\n",
    "### Frequency:\n",
    "Frequency measures how often a customer makes purchases. It is calculated by counting the number of transactions made by each customer.\n",
    "\n",
    "### Monetary:\n",
    "Monetary represents the total amount spent by a customer. It is calculated by summing the transaction amounts for each customer.\n",
    "\n",
    "At this stage, we group the dataset by `Customer ID` and calculate the Recency, Frequency, and Monetary values for each customer.\n"
   ]
  },
  {
   "cell_type": "code",
   "execution_count": 16,
   "id": "bf6b67e9-cd54-4cd6-9668-e03b340a6d8b",
   "metadata": {},
   "outputs": [
    {
     "data": {
      "text/html": [
       "<div>\n",
       "<style scoped>\n",
       "    .dataframe tbody tr th:only-of-type {\n",
       "        vertical-align: middle;\n",
       "    }\n",
       "\n",
       "    .dataframe tbody tr th {\n",
       "        vertical-align: top;\n",
       "    }\n",
       "\n",
       "    .dataframe thead th {\n",
       "        text-align: right;\n",
       "    }\n",
       "</style>\n",
       "<table border=\"1\" class=\"dataframe\">\n",
       "  <thead>\n",
       "    <tr style=\"text-align: right;\">\n",
       "      <th></th>\n",
       "      <th>Customer ID</th>\n",
       "      <th>Recency</th>\n",
       "      <th>Frequency</th>\n",
       "      <th>Monetary</th>\n",
       "    </tr>\n",
       "  </thead>\n",
       "  <tbody>\n",
       "    <tr>\n",
       "      <th>0</th>\n",
       "      <td>12346</td>\n",
       "      <td>326</td>\n",
       "      <td>34</td>\n",
       "      <td>207.40</td>\n",
       "    </tr>\n",
       "    <tr>\n",
       "      <th>1</th>\n",
       "      <td>12608</td>\n",
       "      <td>405</td>\n",
       "      <td>16</td>\n",
       "      <td>26.04</td>\n",
       "    </tr>\n",
       "    <tr>\n",
       "      <th>2</th>\n",
       "      <td>12745</td>\n",
       "      <td>487</td>\n",
       "      <td>22</td>\n",
       "      <td>67.98</td>\n",
       "    </tr>\n",
       "    <tr>\n",
       "      <th>3</th>\n",
       "      <td>12746</td>\n",
       "      <td>541</td>\n",
       "      <td>17</td>\n",
       "      <td>59.10</td>\n",
       "    </tr>\n",
       "    <tr>\n",
       "      <th>4</th>\n",
       "      <td>12747</td>\n",
       "      <td>2</td>\n",
       "      <td>249</td>\n",
       "      <td>1092.72</td>\n",
       "    </tr>\n",
       "  </tbody>\n",
       "</table>\n",
       "</div>"
      ],
      "text/plain": [
       "  Customer ID  Recency  Frequency  Monetary\n",
       "0       12346      326         34    207.40\n",
       "1       12608      405         16     26.04\n",
       "2       12745      487         22     67.98\n",
       "3       12746      541         17     59.10\n",
       "4       12747        2        249   1092.72"
      ]
     },
     "execution_count": 16,
     "metadata": {},
     "output_type": "execute_result"
    }
   ],
   "source": [
    "# Aggregate the data with descriptive column names\n",
    "rfm_df = df.groupby('Customer ID').agg(\n",
    "    Last_Purchase_Date=('InvoiceDate', 'max'),  # Get the date of the most recent transaction\n",
    "    Frequency=('InvoiceDate', 'count'),         # Count the total number of transactions\n",
    "    Monetary=('Price', 'sum')            # Sum the total amount spent\n",
    ").reset_index()\n",
    "\n",
    "# Calculate Recency as the number of days between the reference date and the last purchase date\n",
    "rfm_df['Recency'] = (reference_date - rfm_df['Last_Purchase_Date']).dt.days\n",
    "\n",
    "# # Reorder columns to have Recency in the correct place\n",
    "rfm_df = rfm_df[['Customer ID', 'Recency', 'Frequency', 'Monetary']]\n",
    "\n",
    "rfm_df.head()"
   ]
  },
  {
   "cell_type": "markdown",
   "id": "7035d2a4-1afb-4b19-8376-cbcc4c22df84",
   "metadata": {
    "id": "iBqYiR95rRWt"
   },
   "source": [
    "## 3. RFM Scoring\n",
    "\n",
    "Once we have the RFM metrics, we assign a score between 1 and 5 for each metric. The scores are based on quintiles:\n",
    "- **Recency**: Lower recency (more recent purchase) gets a higher score.\n",
    "- **Frequency**: Higher frequency (more purchases) gets a higher score.\n",
    "- **Monetary**: Higher monetary value (more money spent) gets a higher score.\n",
    "\n",
    "These scores are then combined to create an RFM score for each customer."
   ]
  },
  {
   "cell_type": "code",
   "execution_count": 17,
   "id": "be6e6be1-052e-435d-bb89-3cd15a66954a",
   "metadata": {
    "id": "GJESH6ssrRWv"
   },
   "outputs": [],
   "source": [
    "rfm_df['R_Score'] = pd.qcut(rfm_df['Recency'], 5, labels=[5, 4, 3, 2, 1])\n",
    "rfm_df['F_Score'] = pd.qcut(rfm_df['Frequency'].rank(method=\"first\"), 5, labels=[1, 2, 3, 4, 5])\n",
    "rfm_df['M_Score'] = pd.qcut(rfm_df['Monetary'], 5, labels=[1, 2, 3, 4, 5])"
   ]
  },
  {
   "cell_type": "code",
   "execution_count": 18,
   "id": "85aa6b1a-298b-4e44-82ac-2b3d50101a2c",
   "metadata": {
    "colab": {
     "base_uri": "https://localhost:8080/",
     "height": 423
    },
    "id": "x5UFIminrRWw",
    "outputId": "8214a309-764f-4a18-8d20-acc9e9dafd5b"
   },
   "outputs": [
    {
     "data": {
      "text/html": [
       "<div>\n",
       "<style scoped>\n",
       "    .dataframe tbody tr th:only-of-type {\n",
       "        vertical-align: middle;\n",
       "    }\n",
       "\n",
       "    .dataframe tbody tr th {\n",
       "        vertical-align: top;\n",
       "    }\n",
       "\n",
       "    .dataframe thead th {\n",
       "        text-align: right;\n",
       "    }\n",
       "</style>\n",
       "<table border=\"1\" class=\"dataframe\">\n",
       "  <thead>\n",
       "    <tr style=\"text-align: right;\">\n",
       "      <th></th>\n",
       "      <th>Customer ID</th>\n",
       "      <th>Recency</th>\n",
       "      <th>Frequency</th>\n",
       "      <th>Monetary</th>\n",
       "      <th>R_Score</th>\n",
       "      <th>F_Score</th>\n",
       "      <th>M_Score</th>\n",
       "    </tr>\n",
       "  </thead>\n",
       "  <tbody>\n",
       "    <tr>\n",
       "      <th>0</th>\n",
       "      <td>12346</td>\n",
       "      <td>326</td>\n",
       "      <td>34</td>\n",
       "      <td>207.40</td>\n",
       "      <td>2</td>\n",
       "      <td>2</td>\n",
       "      <td>3</td>\n",
       "    </tr>\n",
       "    <tr>\n",
       "      <th>1</th>\n",
       "      <td>12608</td>\n",
       "      <td>405</td>\n",
       "      <td>16</td>\n",
       "      <td>26.04</td>\n",
       "      <td>2</td>\n",
       "      <td>1</td>\n",
       "      <td>1</td>\n",
       "    </tr>\n",
       "    <tr>\n",
       "      <th>2</th>\n",
       "      <td>12745</td>\n",
       "      <td>487</td>\n",
       "      <td>22</td>\n",
       "      <td>67.98</td>\n",
       "      <td>1</td>\n",
       "      <td>2</td>\n",
       "      <td>2</td>\n",
       "    </tr>\n",
       "    <tr>\n",
       "      <th>3</th>\n",
       "      <td>12746</td>\n",
       "      <td>541</td>\n",
       "      <td>17</td>\n",
       "      <td>59.10</td>\n",
       "      <td>1</td>\n",
       "      <td>2</td>\n",
       "      <td>2</td>\n",
       "    </tr>\n",
       "    <tr>\n",
       "      <th>4</th>\n",
       "      <td>12747</td>\n",
       "      <td>2</td>\n",
       "      <td>249</td>\n",
       "      <td>1092.72</td>\n",
       "      <td>5</td>\n",
       "      <td>5</td>\n",
       "      <td>5</td>\n",
       "    </tr>\n",
       "    <tr>\n",
       "      <th>...</th>\n",
       "      <td>...</td>\n",
       "      <td>...</td>\n",
       "      <td>...</td>\n",
       "      <td>...</td>\n",
       "      <td>...</td>\n",
       "      <td>...</td>\n",
       "      <td>...</td>\n",
       "    </tr>\n",
       "    <tr>\n",
       "      <th>5348</th>\n",
       "      <td>18283</td>\n",
       "      <td>4</td>\n",
       "      <td>938</td>\n",
       "      <td>1651.60</td>\n",
       "      <td>5</td>\n",
       "      <td>5</td>\n",
       "      <td>5</td>\n",
       "    </tr>\n",
       "    <tr>\n",
       "      <th>5349</th>\n",
       "      <td>18284</td>\n",
       "      <td>432</td>\n",
       "      <td>28</td>\n",
       "      <td>91.09</td>\n",
       "      <td>1</td>\n",
       "      <td>2</td>\n",
       "      <td>2</td>\n",
       "    </tr>\n",
       "    <tr>\n",
       "      <th>5350</th>\n",
       "      <td>18285</td>\n",
       "      <td>661</td>\n",
       "      <td>12</td>\n",
       "      <td>100.20</td>\n",
       "      <td>1</td>\n",
       "      <td>1</td>\n",
       "      <td>2</td>\n",
       "    </tr>\n",
       "    <tr>\n",
       "      <th>5351</th>\n",
       "      <td>18286</td>\n",
       "      <td>477</td>\n",
       "      <td>67</td>\n",
       "      <td>286.30</td>\n",
       "      <td>1</td>\n",
       "      <td>3</td>\n",
       "      <td>4</td>\n",
       "    </tr>\n",
       "    <tr>\n",
       "      <th>5352</th>\n",
       "      <td>18287</td>\n",
       "      <td>43</td>\n",
       "      <td>155</td>\n",
       "      <td>346.34</td>\n",
       "      <td>4</td>\n",
       "      <td>4</td>\n",
       "      <td>4</td>\n",
       "    </tr>\n",
       "  </tbody>\n",
       "</table>\n",
       "<p>5353 rows × 7 columns</p>\n",
       "</div>"
      ],
      "text/plain": [
       "     Customer ID  Recency  Frequency  Monetary R_Score F_Score M_Score\n",
       "0          12346      326         34    207.40       2       2       3\n",
       "1          12608      405         16     26.04       2       1       1\n",
       "2          12745      487         22     67.98       1       2       2\n",
       "3          12746      541         17     59.10       1       2       2\n",
       "4          12747        2        249   1092.72       5       5       5\n",
       "...          ...      ...        ...       ...     ...     ...     ...\n",
       "5348       18283        4        938   1651.60       5       5       5\n",
       "5349       18284      432         28     91.09       1       2       2\n",
       "5350       18285      661         12    100.20       1       1       2\n",
       "5351       18286      477         67    286.30       1       3       4\n",
       "5352       18287       43        155    346.34       4       4       4\n",
       "\n",
       "[5353 rows x 7 columns]"
      ]
     },
     "execution_count": 18,
     "metadata": {},
     "output_type": "execute_result"
    }
   ],
   "source": [
    "rfm_df"
   ]
  },
  {
   "cell_type": "markdown",
   "id": "b092cf3e-46a2-4135-ad13-18f46e04a8ff",
   "metadata": {
    "id": "n9nQHGKyrRWy"
   },
   "source": [
    "## 4. Combine RFM Scores\n",
    "\n",
    "\n",
    "The next step involves combining the Recency, Frequency, and Monetary scores into a single RFM score. This score is generated by concatenating the Recency, Frequency, and Monetary scores for each customer. The resulting RFM score gives a comprehensive view of a customer’s behavior in terms of their engagement and value."
   ]
  },
  {
   "cell_type": "code",
   "execution_count": 19,
   "id": "6588651b-5081-49ab-aaf1-be260159cffe",
   "metadata": {
    "colab": {
     "base_uri": "https://localhost:8080/",
     "height": 423
    },
    "id": "gHORnDU4rRW0",
    "outputId": "08d24d44-bef7-4a2e-80e3-94b41e0b3f0e"
   },
   "outputs": [
    {
     "data": {
      "text/html": [
       "<div>\n",
       "<style scoped>\n",
       "    .dataframe tbody tr th:only-of-type {\n",
       "        vertical-align: middle;\n",
       "    }\n",
       "\n",
       "    .dataframe tbody tr th {\n",
       "        vertical-align: top;\n",
       "    }\n",
       "\n",
       "    .dataframe thead th {\n",
       "        text-align: right;\n",
       "    }\n",
       "</style>\n",
       "<table border=\"1\" class=\"dataframe\">\n",
       "  <thead>\n",
       "    <tr style=\"text-align: right;\">\n",
       "      <th></th>\n",
       "      <th>Customer ID</th>\n",
       "      <th>Recency</th>\n",
       "      <th>Frequency</th>\n",
       "      <th>Monetary</th>\n",
       "      <th>R_Score</th>\n",
       "      <th>F_Score</th>\n",
       "      <th>M_Score</th>\n",
       "      <th>RFM_Score</th>\n",
       "    </tr>\n",
       "  </thead>\n",
       "  <tbody>\n",
       "    <tr>\n",
       "      <th>0</th>\n",
       "      <td>12346</td>\n",
       "      <td>326</td>\n",
       "      <td>34</td>\n",
       "      <td>207.40</td>\n",
       "      <td>2</td>\n",
       "      <td>2</td>\n",
       "      <td>3</td>\n",
       "      <td>223</td>\n",
       "    </tr>\n",
       "    <tr>\n",
       "      <th>1</th>\n",
       "      <td>12608</td>\n",
       "      <td>405</td>\n",
       "      <td>16</td>\n",
       "      <td>26.04</td>\n",
       "      <td>2</td>\n",
       "      <td>1</td>\n",
       "      <td>1</td>\n",
       "      <td>211</td>\n",
       "    </tr>\n",
       "    <tr>\n",
       "      <th>2</th>\n",
       "      <td>12745</td>\n",
       "      <td>487</td>\n",
       "      <td>22</td>\n",
       "      <td>67.98</td>\n",
       "      <td>1</td>\n",
       "      <td>2</td>\n",
       "      <td>2</td>\n",
       "      <td>122</td>\n",
       "    </tr>\n",
       "    <tr>\n",
       "      <th>3</th>\n",
       "      <td>12746</td>\n",
       "      <td>541</td>\n",
       "      <td>17</td>\n",
       "      <td>59.10</td>\n",
       "      <td>1</td>\n",
       "      <td>2</td>\n",
       "      <td>2</td>\n",
       "      <td>122</td>\n",
       "    </tr>\n",
       "    <tr>\n",
       "      <th>4</th>\n",
       "      <td>12747</td>\n",
       "      <td>2</td>\n",
       "      <td>249</td>\n",
       "      <td>1092.72</td>\n",
       "      <td>5</td>\n",
       "      <td>5</td>\n",
       "      <td>5</td>\n",
       "      <td>555</td>\n",
       "    </tr>\n",
       "    <tr>\n",
       "      <th>...</th>\n",
       "      <td>...</td>\n",
       "      <td>...</td>\n",
       "      <td>...</td>\n",
       "      <td>...</td>\n",
       "      <td>...</td>\n",
       "      <td>...</td>\n",
       "      <td>...</td>\n",
       "      <td>...</td>\n",
       "    </tr>\n",
       "    <tr>\n",
       "      <th>5348</th>\n",
       "      <td>18283</td>\n",
       "      <td>4</td>\n",
       "      <td>938</td>\n",
       "      <td>1651.60</td>\n",
       "      <td>5</td>\n",
       "      <td>5</td>\n",
       "      <td>5</td>\n",
       "      <td>555</td>\n",
       "    </tr>\n",
       "    <tr>\n",
       "      <th>5349</th>\n",
       "      <td>18284</td>\n",
       "      <td>432</td>\n",
       "      <td>28</td>\n",
       "      <td>91.09</td>\n",
       "      <td>1</td>\n",
       "      <td>2</td>\n",
       "      <td>2</td>\n",
       "      <td>122</td>\n",
       "    </tr>\n",
       "    <tr>\n",
       "      <th>5350</th>\n",
       "      <td>18285</td>\n",
       "      <td>661</td>\n",
       "      <td>12</td>\n",
       "      <td>100.20</td>\n",
       "      <td>1</td>\n",
       "      <td>1</td>\n",
       "      <td>2</td>\n",
       "      <td>112</td>\n",
       "    </tr>\n",
       "    <tr>\n",
       "      <th>5351</th>\n",
       "      <td>18286</td>\n",
       "      <td>477</td>\n",
       "      <td>67</td>\n",
       "      <td>286.30</td>\n",
       "      <td>1</td>\n",
       "      <td>3</td>\n",
       "      <td>4</td>\n",
       "      <td>134</td>\n",
       "    </tr>\n",
       "    <tr>\n",
       "      <th>5352</th>\n",
       "      <td>18287</td>\n",
       "      <td>43</td>\n",
       "      <td>155</td>\n",
       "      <td>346.34</td>\n",
       "      <td>4</td>\n",
       "      <td>4</td>\n",
       "      <td>4</td>\n",
       "      <td>444</td>\n",
       "    </tr>\n",
       "  </tbody>\n",
       "</table>\n",
       "<p>5353 rows × 8 columns</p>\n",
       "</div>"
      ],
      "text/plain": [
       "     Customer ID  Recency  Frequency  Monetary R_Score F_Score M_Score  \\\n",
       "0          12346      326         34    207.40       2       2       3   \n",
       "1          12608      405         16     26.04       2       1       1   \n",
       "2          12745      487         22     67.98       1       2       2   \n",
       "3          12746      541         17     59.10       1       2       2   \n",
       "4          12747        2        249   1092.72       5       5       5   \n",
       "...          ...      ...        ...       ...     ...     ...     ...   \n",
       "5348       18283        4        938   1651.60       5       5       5   \n",
       "5349       18284      432         28     91.09       1       2       2   \n",
       "5350       18285      661         12    100.20       1       1       2   \n",
       "5351       18286      477         67    286.30       1       3       4   \n",
       "5352       18287       43        155    346.34       4       4       4   \n",
       "\n",
       "     RFM_Score  \n",
       "0          223  \n",
       "1          211  \n",
       "2          122  \n",
       "3          122  \n",
       "4          555  \n",
       "...        ...  \n",
       "5348       555  \n",
       "5349       122  \n",
       "5350       112  \n",
       "5351       134  \n",
       "5352       444  \n",
       "\n",
       "[5353 rows x 8 columns]"
      ]
     },
     "execution_count": 19,
     "metadata": {},
     "output_type": "execute_result"
    }
   ],
   "source": [
    "rfm_df['RFM_Score'] = rfm_df.R_Score.astype(str) + rfm_df.F_Score.astype(str) + rfm_df.M_Score.astype(str)\n",
    "\n",
    "rfm_df"
   ]
  },
  {
   "cell_type": "markdown",
   "id": "b842db06-858e-4dad-9984-fcf6a6244c55",
   "metadata": {
    "id": "wEQ2C-m0rRW1"
   },
   "source": [
    "## 5. RFM Segmentation\n",
    "\n",
    "In this step, we use combined RFM scores to segment customers into various groups. Each segment represents different customer behaviors based on recency, frequency, and monetary value.\n",
    "\n",
    "Here are the common segments used in RFM analysis:\n",
    "\n",
    "- **Hibernating**: Customers who have not made a purchase in a long time, with low frequency and monetary value.\n",
    "- **At Risk**:  Previously active customers who have not made a purchase for a while, indicating potential churn or loss.\n",
    "- **Cannot Lose Them**: Customers with high monetary value but low purchase frequency and who have not made a purchase for a long time, requiring special attention to prevent loss.\n",
    "- **About to Sleep**: Customers with moderate recency and frequency who might stop transacting if not reactivated.\n",
    "- **Need Attention**: Customers with good potential who need more attention and engagement to boost their activity.\n",
    "- **Promising**: New customers who have the potential to become loyal or high-value customers.\n",
    "- **Champion**: Top customers who purchase frequently, have made a recent purchase, and have high spending.\n",
    "- **Loyal Customer**: Loyal customers who purchase frequently and have high monetary value.\n",
    "- **Potential Loyalist**: Customers who are almost loyal but not fully, possibly with high frequency but still medium monetary value.\n",
    "- **New Customers**: Customers who have just made a purchase and may still be exploring the product or brand.\n",
    "- **Lost**: Customers who have not purchased in a long time, with low frequency and monetary value, and are likely to be lost or churn."
   ]
  },
  {
   "cell_type": "code",
   "execution_count": 20,
   "id": "1b4b9927-c72f-4d50-8113-c2a009811940",
   "metadata": {
    "colab": {
     "base_uri": "https://localhost:8080/",
     "height": 206
    },
    "id": "XQBZRuAarRW2",
    "outputId": "d8771471-e8b4-4d7a-c622-2da7c79dcda5"
   },
   "outputs": [
    {
     "data": {
      "text/html": [
       "<div>\n",
       "<style scoped>\n",
       "    .dataframe tbody tr th:only-of-type {\n",
       "        vertical-align: middle;\n",
       "    }\n",
       "\n",
       "    .dataframe tbody tr th {\n",
       "        vertical-align: top;\n",
       "    }\n",
       "\n",
       "    .dataframe thead th {\n",
       "        text-align: right;\n",
       "    }\n",
       "</style>\n",
       "<table border=\"1\" class=\"dataframe\">\n",
       "  <thead>\n",
       "    <tr style=\"text-align: right;\">\n",
       "      <th></th>\n",
       "      <th>Customer ID</th>\n",
       "      <th>Recency</th>\n",
       "      <th>Frequency</th>\n",
       "      <th>Monetary</th>\n",
       "      <th>R_Score</th>\n",
       "      <th>F_Score</th>\n",
       "      <th>M_Score</th>\n",
       "      <th>RFM_Score</th>\n",
       "      <th>Customer Segment</th>\n",
       "    </tr>\n",
       "  </thead>\n",
       "  <tbody>\n",
       "    <tr>\n",
       "      <th>0</th>\n",
       "      <td>12346</td>\n",
       "      <td>326</td>\n",
       "      <td>34</td>\n",
       "      <td>207.40</td>\n",
       "      <td>2</td>\n",
       "      <td>2</td>\n",
       "      <td>3</td>\n",
       "      <td>223</td>\n",
       "      <td>Hibernating</td>\n",
       "    </tr>\n",
       "    <tr>\n",
       "      <th>1</th>\n",
       "      <td>12608</td>\n",
       "      <td>405</td>\n",
       "      <td>16</td>\n",
       "      <td>26.04</td>\n",
       "      <td>2</td>\n",
       "      <td>1</td>\n",
       "      <td>1</td>\n",
       "      <td>211</td>\n",
       "      <td>Hibernating</td>\n",
       "    </tr>\n",
       "    <tr>\n",
       "      <th>2</th>\n",
       "      <td>12745</td>\n",
       "      <td>487</td>\n",
       "      <td>22</td>\n",
       "      <td>67.98</td>\n",
       "      <td>1</td>\n",
       "      <td>2</td>\n",
       "      <td>2</td>\n",
       "      <td>122</td>\n",
       "      <td>Hibernating</td>\n",
       "    </tr>\n",
       "    <tr>\n",
       "      <th>3</th>\n",
       "      <td>12746</td>\n",
       "      <td>541</td>\n",
       "      <td>17</td>\n",
       "      <td>59.10</td>\n",
       "      <td>1</td>\n",
       "      <td>2</td>\n",
       "      <td>2</td>\n",
       "      <td>122</td>\n",
       "      <td>Hibernating</td>\n",
       "    </tr>\n",
       "    <tr>\n",
       "      <th>4</th>\n",
       "      <td>12747</td>\n",
       "      <td>2</td>\n",
       "      <td>249</td>\n",
       "      <td>1092.72</td>\n",
       "      <td>5</td>\n",
       "      <td>5</td>\n",
       "      <td>5</td>\n",
       "      <td>555</td>\n",
       "      <td>Champion</td>\n",
       "    </tr>\n",
       "  </tbody>\n",
       "</table>\n",
       "</div>"
      ],
      "text/plain": [
       "  Customer ID  Recency  Frequency  Monetary R_Score F_Score M_Score RFM_Score  \\\n",
       "0       12346      326         34    207.40       2       2       3       223   \n",
       "1       12608      405         16     26.04       2       1       1       211   \n",
       "2       12745      487         22     67.98       1       2       2       122   \n",
       "3       12746      541         17     59.10       1       2       2       122   \n",
       "4       12747        2        249   1092.72       5       5       5       555   \n",
       "\n",
       "  Customer Segment  \n",
       "0      Hibernating  \n",
       "1      Hibernating  \n",
       "2      Hibernating  \n",
       "3      Hibernating  \n",
       "4         Champion  "
      ]
     },
     "execution_count": 20,
     "metadata": {},
     "output_type": "execute_result"
    }
   ],
   "source": [
    "# Create customer segments based on RFM score\n",
    "Champion = [555, 554, 544, 545, 454, 455, 445]\n",
    "Loyal_Customer = [543, 444, 435, 355, 354, 345, 344, 335]\n",
    "Potential_Loyalist = [553, 551, 552, 541, 542, 533, 532, 531, 452, 451, 442, 441, 431, 453, 433, 432, 423, 353, 352, 351, 342, 341, 333, 323]\n",
    "New_Customer = [512, 511, 422, 421, 412, 411, 311]\n",
    "Promising = [525, 524, 523, 522, 521, 515, 514, 513, 425,424, 413,414,415, 315, 314, 313]\n",
    "Need_Attention = [535, 534, 443, 434, 343, 334, 325, 324]\n",
    "Cannot_Lose_Them = [155, 154, 144, 214,215,115, 114, 113]\n",
    "About_to_Sleep = [331, 321, 312, 221, 213]\n",
    "At_Risk = [255, 254, 245, 244, 253, 252, 243, 242, 235, 234, 225, 224, 153, 152, 145, 143, 142, 135, 134, 133, 125, 124]\n",
    "Hibernating = [332, 322, 231, 241, 251, 233, 232, 223, 222, 132, 123, 122, 212, 211]\n",
    "Lost = [111, 112, 121, 131, 141, 151]\n",
    "\n",
    "# Create a function to assign customers to various customer segments based on RFM score\n",
    "def assign_cust_seg(col):\n",
    "    list_col = list(col)\n",
    "    segment = list()\n",
    "    for score in list_col:\n",
    "        if score in Champion:\n",
    "            value = 'Champion'\n",
    "        elif score in Loyal_Customer:\n",
    "            value = 'Loyal Customer'\n",
    "        elif score in Potential_Loyalist:\n",
    "            value = 'Potential Loyalist'\n",
    "        elif score in New_Customer:\n",
    "            value = 'New Customer'\n",
    "        elif score in Promising:\n",
    "            value = 'Promising'\n",
    "        elif score in Need_Attention:\n",
    "            value = 'Need Attention'\n",
    "        elif score in Cannot_Lose_Them:\n",
    "            value = 'Cannot Lose Them'\n",
    "        elif score in About_to_Sleep:\n",
    "            value = 'About to Sleep'\n",
    "        elif score in At_Risk:\n",
    "            value = 'At Risk'\n",
    "        elif score in Hibernating:\n",
    "            value = 'Hibernating'\n",
    "        elif score in Lost:\n",
    "            value = 'Lost'\n",
    "        else:\n",
    "            value = 'null'\n",
    "        segment.append(value)\n",
    "    return segment\n",
    "\n",
    "# Assign customers to segments based on their RFM score\n",
    "rfm_df['Customer Segment'] = assign_cust_seg(rfm_df['RFM_Score'].astype(int))\n",
    "rfm_df.head(5)"
   ]
  },
  {
   "cell_type": "code",
   "execution_count": 21,
   "id": "5a55b18a-f88c-4ac1-a0ed-822c08cc63e2",
   "metadata": {
    "colab": {
     "base_uri": "https://localhost:8080/",
     "height": 425
    },
    "id": "dITI7Z6DrRW4",
    "outputId": "682b5584-9113-4d34-d107-b02138839d41"
   },
   "outputs": [
    {
     "data": {
      "text/html": [
       "<div>\n",
       "<style scoped>\n",
       "    .dataframe tbody tr th:only-of-type {\n",
       "        vertical-align: middle;\n",
       "    }\n",
       "\n",
       "    .dataframe tbody tr th {\n",
       "        vertical-align: top;\n",
       "    }\n",
       "\n",
       "    .dataframe thead th {\n",
       "        text-align: right;\n",
       "    }\n",
       "</style>\n",
       "<table border=\"1\" class=\"dataframe\">\n",
       "  <thead>\n",
       "    <tr style=\"text-align: right;\">\n",
       "      <th></th>\n",
       "      <th>count</th>\n",
       "    </tr>\n",
       "    <tr>\n",
       "      <th>Customer Segment</th>\n",
       "      <th></th>\n",
       "    </tr>\n",
       "  </thead>\n",
       "  <tbody>\n",
       "    <tr>\n",
       "      <th>Hibernating</th>\n",
       "      <td>1185</td>\n",
       "    </tr>\n",
       "    <tr>\n",
       "      <th>Champion</th>\n",
       "      <td>1058</td>\n",
       "    </tr>\n",
       "    <tr>\n",
       "      <th>Loyal Customer</th>\n",
       "      <td>593</td>\n",
       "    </tr>\n",
       "    <tr>\n",
       "      <th>Potential Loyalist</th>\n",
       "      <td>520</td>\n",
       "    </tr>\n",
       "    <tr>\n",
       "      <th>Lost</th>\n",
       "      <td>486</td>\n",
       "    </tr>\n",
       "    <tr>\n",
       "      <th>At Risk</th>\n",
       "      <td>476</td>\n",
       "    </tr>\n",
       "    <tr>\n",
       "      <th>New Customer</th>\n",
       "      <td>456</td>\n",
       "    </tr>\n",
       "    <tr>\n",
       "      <th>Need Attention</th>\n",
       "      <td>241</td>\n",
       "    </tr>\n",
       "    <tr>\n",
       "      <th>Promising</th>\n",
       "      <td>118</td>\n",
       "    </tr>\n",
       "    <tr>\n",
       "      <th>About to Sleep</th>\n",
       "      <td>117</td>\n",
       "    </tr>\n",
       "    <tr>\n",
       "      <th>Cannot Lose Them</th>\n",
       "      <td>103</td>\n",
       "    </tr>\n",
       "  </tbody>\n",
       "</table>\n",
       "</div>"
      ],
      "text/plain": [
       "                    count\n",
       "Customer Segment         \n",
       "Hibernating          1185\n",
       "Champion             1058\n",
       "Loyal Customer        593\n",
       "Potential Loyalist    520\n",
       "Lost                  486\n",
       "At Risk               476\n",
       "New Customer          456\n",
       "Need Attention        241\n",
       "Promising             118\n",
       "About to Sleep        117\n",
       "Cannot Lose Them      103"
      ]
     },
     "execution_count": 21,
     "metadata": {},
     "output_type": "execute_result"
    }
   ],
   "source": [
    "pd.DataFrame(rfm_df['Customer Segment'].value_counts())"
   ]
  },
  {
   "cell_type": "markdown",
   "id": "32d84224-509b-4d4f-99bd-c6e0535a0e4a",
   "metadata": {
    "id": "Vg9mzUVErRW5"
   },
   "source": [
    "## 6. Analyze the Segments\n",
    "\n",
    "Once customers are segmented, we analyze each segment to understand their behavior:\n",
    "- **Recency**: How recently customers in each segment have purchased.\n",
    "- **Frequency**: How often customers in each segment make purchases.\n",
    "- **Monetary**: How much customers in each segment spend.\n",
    "\n",
    "This analysis provides insights into which customer groups need more attention and which are high-value, helping businesses tailor their marketing strategies."
   ]
  },
  {
   "cell_type": "code",
   "execution_count": 22,
   "id": "5dfec72e-f2d7-4986-a43c-b4cb3840df2a",
   "metadata": {
    "colab": {
     "base_uri": "https://localhost:8080/",
     "height": 699
    },
    "id": "Tw8tgbEPrRW6",
    "outputId": "6ebe045c-0635-460a-ee65-05d337522ca8"
   },
   "outputs": [
    {
     "data": {
      "image/png": "[encoded data removed]",
      "text/plain": [
       "<Figure size 1500x800 with 1 Axes>"
      ]
     },
     "metadata": {},
     "output_type": "display_data"
    }
   ],
   "source": [
    "import squarify\n",
    "import matplotlib.pyplot as plt\n",
    "import seaborn as sns\n",
    "\n",
    "segment_counts = rfm_df['Customer Segment'].value_counts().reset_index()\n",
    "segment_counts.columns = ['Customer Segment', 'count']\n",
    "\n",
    "colors = sns.color_palette('BuPu', len(segment_counts))\n",
    "\n",
    "plt.figure(figsize=(15, 8))\n",
    "squarify.plot(\n",
    "    sizes=segment_counts['count'],\n",
    "    label=segment_counts['Customer Segment'],\n",
    "    color=colors,\n",
    "    alpha=0.8,\n",
    "    edgecolor='white',\n",
    "    linewidth=3\n",
    ")\n",
    "\n",
    "plt.axis('off')\n",
    "\n",
    "plt.title(\n",
    "    'Customer Segment Distribution',\n",
    "    fontsize=18,\n",
    "    fontweight='bold',\n",
    "    color='darkblue',\n",
    "    pad=20\n",
    ")\n",
    "\n",
    "# Display the plot\n",
    "plt.show()"
   ]
  },
  {
   "cell_type": "code",
   "execution_count": 55,
   "id": "53fa299b-3797-47e4-9f41-8a9ea929d897",
   "metadata": {},
   "outputs": [
    {
     "data": {
      "application/vnd.plotly.v1+json": {
       "config": {
        "plotlyServerURL": "https://plot.ly"
       },
       "data": [
        {
         "branchvalues": "total",
         "customdata": [
          [
           117
          ],
          [
           476
          ],
          [
           103
          ],
          [
           1058
          ],
          [
           1185
          ],
          [
           486
          ],
          [
           593
          ],
          [
           241
          ],
          [
           456
          ],
          [
           520
          ],
          [
           118
          ]
         ],
         "domain": {
          "x": [
           0,
           1
          ],
          "y": [
           0,
           1
          ]
         },
         "hovertemplate": "labels=%{label}<br>count_sum=%{value}<br>parent=%{parent}<br>id=%{id}<br>count=%{color}<extra></extra>",
         "ids": [
          "About to Sleep",
          "At Risk",
          "Cannot Lose Them",
          "Champion",
          "Hibernating",
          "Lost",
          "Loyal Customer",
          "Need Attention",
          "New Customer",
          "Potential Loyalist",
          "Promising"
         ],
         "labels": [
          "About to Sleep",
          "At Risk",
          "Cannot Lose Them",
          "Champion",
          "Hibernating",
          "Lost",
          "Loyal Customer",
          "Need Attention",
          "New Customer",
          "Potential Loyalist",
          "Promising"
         ],
         "marker": {
          "coloraxis": "coloraxis",
          "colors": [
           117,
           476,
           103,
           1058,
           1185,
           486,
           593,
           241,
           456,
           520,
           118
          ]
         },
         "name": "",
         "parents": [
          "",
          "",
          "",
          "",
          "",
          "",
          "",
          "",
          "",
          "",
          ""
         ],
         "type": "treemap",
         "values": [
          117,
          476,
          103,
          1058,
          1185,
          486,
          593,
          241,
          456,
          520,
          118
         ]
        }
       ],
       "layout": {
        "autosize": true,
        "coloraxis": {
         "colorbar": {
          "title": {
           "text": "count"
          }
         },
         "colorscale": [
          [
           0,
           "rgb(77,0,75)"
          ],
          [
           0.125,
           "rgb(129,15,124)"
          ],
          [
           0.25,
           "rgb(136,65,157)"
          ],
          [
           0.375,
           "rgb(140,107,177)"
          ],
          [
           0.5,
           "rgb(140,150,198)"
          ],
          [
           0.625,
           "rgb(158,188,218)"
          ],
          [
           0.75,
           "rgb(191,211,230)"
          ],
          [
           0.875,
           "rgb(224,236,244)"
          ],
          [
           1,
           "rgb(247,252,253)"
          ]
         ]
        },
        "legend": {
         "tracegroupgap": 0
        },
        "margin": {
         "b": 25,
         "l": 25,
         "r": 25,
         "t": 50
        },
        "template": {
         "data": {
          "bar": [
           {
            "error_x": {
             "color": "#2a3f5f"
            },
            "error_y": {
             "color": "#2a3f5f"
            },
            "marker": {
             "line": {
              "color": "#E5ECF6",
              "width": 0.5
             },
             "pattern": {
              "fillmode": "overlay",
              "size": 10,
              "solidity": 0.2
             }
            },
            "type": "bar"
           }
          ],
          "barpolar": [
           {
            "marker": {
             "line": {
              "color": "#E5ECF6",
              "width": 0.5
             },
             "pattern": {
              "fillmode": "overlay",
              "size": 10,
              "solidity": 0.2
             }
            },
            "type": "barpolar"
           }
          ],
          "carpet": [
           {
            "aaxis": {
             "endlinecolor": "#2a3f5f",
             "gridcolor": "white",
             "linecolor": "white",
             "minorgridcolor": "white",
             "startlinecolor": "#2a3f5f"
            },
            "baxis": {
             "endlinecolor": "#2a3f5f",
             "gridcolor": "white",
             "linecolor": "white",
             "minorgridcolor": "white",
             "startlinecolor": "#2a3f5f"
            },
            "type": "carpet"
           }
          ],
          "choropleth": [
           {
            "colorbar": {
             "outlinewidth": 0,
             "ticks": ""
            },
            "type": "choropleth"
           }
          ],
          "contour": [
           {
            "colorbar": {
             "outlinewidth": 0,
             "ticks": ""
            },
            "colorscale": [
             [
              0,
              "#0d0887"
             ],
             [
              0.1111111111111111,
              "#46039f"
             ],
             [
              0.2222222222222222,
              "#7201a8"
             ],
             [
              0.3333333333333333,
              "#9c179e"
             ],
             [
              0.4444444444444444,
              "#bd3786"
             ],
             [
              0.5555555555555556,
              "#d8576b"
             ],
             [
              0.6666666666666666,
              "#ed7953"
             ],
             [
              0.7777777777777778,
              "#fb9f3a"
             ],
             [
              0.8888888888888888,
              "#fdca26"
             ],
             [
              1,
              "#f0f921"
             ]
            ],
            "type": "contour"
           }
          ],
          "contourcarpet": [
           {
            "colorbar": {
             "outlinewidth": 0,
             "ticks": ""
            },
            "type": "contourcarpet"
           }
          ],
          "heatmap": [
           {
            "colorbar": {
             "outlinewidth": 0,
             "ticks": ""
            },
            "colorscale": [
             [
              0,
              "#0d0887"
             ],
             [
              0.1111111111111111,
              "#46039f"
             ],
             [
              0.2222222222222222,
              "#7201a8"
             ],
             [
              0.3333333333333333,
              "#9c179e"
             ],
             [
              0.4444444444444444,
              "#bd3786"
             ],
             [
              0.5555555555555556,
              "#d8576b"
             ],
             [
              0.6666666666666666,
              "#ed7953"
             ],
             [
              0.7777777777777778,
              "#fb9f3a"
             ],
             [
              0.8888888888888888,
              "#fdca26"
             ],
             [
              1,
              "#f0f921"
             ]
            ],
            "type": "heatmap"
           }
          ],
          "heatmapgl": [
           {
            "colorbar": {
             "outlinewidth": 0,
             "ticks": ""
            },
            "colorscale": [
             [
              0,
              "#0d0887"
             ],
             [
              0.1111111111111111,
              "#46039f"
             ],
             [
              0.2222222222222222,
              "#7201a8"
             ],
             [
              0.3333333333333333,
              "#9c179e"
             ],
             [
              0.4444444444444444,
              "#bd3786"
             ],
             [
              0.5555555555555556,
              "#d8576b"
             ],
             [
              0.6666666666666666,
              "#ed7953"
             ],
             [
              0.7777777777777778,
              "#fb9f3a"
             ],
             [
              0.8888888888888888,
              "#fdca26"
             ],
             [
              1,
              "#f0f921"
             ]
            ],
            "type": "heatmapgl"
           }
          ],
          "histogram": [
           {
            "marker": {
             "pattern": {
              "fillmode": "overlay",
              "size": 10,
              "solidity": 0.2
             }
            },
            "type": "histogram"
           }
          ],
          "histogram2d": [
           {
            "colorbar": {
             "outlinewidth": 0,
             "ticks": ""
            },
            "colorscale": [
             [
              0,
              "#0d0887"
             ],
             [
              0.1111111111111111,
              "#46039f"
             ],
             [
              0.2222222222222222,
              "#7201a8"
             ],
             [
              0.3333333333333333,
              "#9c179e"
             ],
             [
              0.4444444444444444,
              "#bd3786"
             ],
             [
              0.5555555555555556,
              "#d8576b"
             ],
             [
              0.6666666666666666,
              "#ed7953"
             ],
             [
              0.7777777777777778,
              "#fb9f3a"
             ],
             [
              0.8888888888888888,
              "#fdca26"
             ],
             [
              1,
              "#f0f921"
             ]
            ],
            "type": "histogram2d"
           }
          ],
          "histogram2dcontour": [
           {
            "colorbar": {
             "outlinewidth": 0,
             "ticks": ""
            },
            "colorscale": [
             [
              0,
              "#0d0887"
             ],
             [
              0.1111111111111111,
              "#46039f"
             ],
             [
              0.2222222222222222,
              "#7201a8"
             ],
             [
              0.3333333333333333,
              "#9c179e"
             ],
             [
              0.4444444444444444,
              "#bd3786"
             ],
             [
              0.5555555555555556,
              "#d8576b"
             ],
             [
              0.6666666666666666,
              "#ed7953"
             ],
             [
              0.7777777777777778,
              "#fb9f3a"
             ],
             [
              0.8888888888888888,
              "#fdca26"
             ],
             [
              1,
              "#f0f921"
             ]
            ],
            "type": "histogram2dcontour"
           }
          ],
          "mesh3d": [
           {
            "colorbar": {
             "outlinewidth": 0,
             "ticks": ""
            },
            "type": "mesh3d"
           }
          ],
          "parcoords": [
           {
            "line": {
             "colorbar": {
              "outlinewidth": 0,
              "ticks": ""
             }
            },
            "type": "parcoords"
           }
          ],
          "pie": [
           {
            "automargin": true,
            "type": "pie"
           }
          ],
          "scatter": [
           {
            "fillpattern": {
             "fillmode": "overlay",
             "size": 10,
             "solidity": 0.2
            },
            "type": "scatter"
           }
          ],
          "scatter3d": [
           {
            "line": {
             "colorbar": {
              "outlinewidth": 0,
              "ticks": ""
             }
            },
            "marker": {
             "colorbar": {
              "outlinewidth": 0,
              "ticks": ""
             }
            },
            "type": "scatter3d"
           }
          ],
          "scattercarpet": [
           {
            "marker": {
             "colorbar": {
              "outlinewidth": 0,
              "ticks": ""
             }
            },
            "type": "scattercarpet"
           }
          ],
          "scattergeo": [
           {
            "marker": {
             "colorbar": {
              "outlinewidth": 0,
              "ticks": ""
             }
            },
            "type": "scattergeo"
           }
          ],
          "scattergl": [
           {
            "marker": {
             "colorbar": {
              "outlinewidth": 0,
              "ticks": ""
             }
            },
            "type": "scattergl"
           }
          ],
          "scattermapbox": [
           {
            "marker": {
             "colorbar": {
              "outlinewidth": 0,
              "ticks": ""
             }
            },
            "type": "scattermapbox"
           }
          ],
          "scatterpolar": [
           {
            "marker": {
             "colorbar": {
              "outlinewidth": 0,
              "ticks": ""
             }
            },
            "type": "scatterpolar"
           }
          ],
          "scatterpolargl": [
           {
            "marker": {
             "colorbar": {
              "outlinewidth": 0,
              "ticks": ""
             }
            },
            "type": "scatterpolargl"
           }
          ],
          "scatterternary": [
           {
            "marker": {
             "colorbar": {
              "outlinewidth": 0,
              "ticks": ""
             }
            },
            "type": "scatterternary"
           }
          ],
          "surface": [
           {
            "colorbar": {
             "outlinewidth": 0,
             "ticks": ""
            },
            "colorscale": [
             [
              0,
              "#0d0887"
             ],
             [
              0.1111111111111111,
              "#46039f"
             ],
             [
              0.2222222222222222,
              "#7201a8"
             ],
             [
              0.3333333333333333,
              "#9c179e"
             ],
             [
              0.4444444444444444,
              "#bd3786"
             ],
             [
              0.5555555555555556,
              "#d8576b"
             ],
             [
              0.6666666666666666,
              "#ed7953"
             ],
             [
              0.7777777777777778,
              "#fb9f3a"
             ],
             [
              0.8888888888888888,
              "#fdca26"
             ],
             [
              1,
              "#f0f921"
             ]
            ],
            "type": "surface"
           }
          ],
          "table": [
           {
            "cells": {
             "fill": {
              "color": "#EBF0F8"
             },
             "line": {
              "color": "white"
             }
            },
            "header": {
             "fill": {
              "color": "#C8D4E3"
             },
             "line": {
              "color": "white"
             }
            },
            "type": "table"
           }
          ]
         },
         "layout": {
          "annotationdefaults": {
           "arrowcolor": "#2a3f5f",
           "arrowhead": 0,
           "arrowwidth": 1
          },
          "autotypenumbers": "strict",
          "coloraxis": {
           "colorbar": {
            "outlinewidth": 0,
            "ticks": ""
           }
          },
          "colorscale": {
           "diverging": [
            [
             0,
             "#8e0152"
            ],
            [
             0.1,
             "#c51b7d"
            ],
            [
             0.2,
             "#de77ae"
            ],
            [
             0.3,
             "#f1b6da"
            ],
            [
             0.4,
             "#fde0ef"
            ],
            [
             0.5,
             "#f7f7f7"
            ],
            [
             0.6,
             "#e6f5d0"
            ],
            [
             0.7,
             "#b8e186"
            ],
            [
             0.8,
             "#7fbc41"
            ],
            [
             0.9,
             "#4d9221"
            ],
            [
             1,
             "#276419"
            ]
           ],
           "sequential": [
            [
             0,
             "#0d0887"
            ],
            [
             0.1111111111111111,
             "#46039f"
            ],
            [
             0.2222222222222222,
             "#7201a8"
            ],
            [
             0.3333333333333333,
             "#9c179e"
            ],
            [
             0.4444444444444444,
             "#bd3786"
            ],
            [
             0.5555555555555556,
             "#d8576b"
            ],
            [
             0.6666666666666666,
             "#ed7953"
            ],
            [
             0.7777777777777778,
             "#fb9f3a"
            ],
            [
             0.8888888888888888,
             "#fdca26"
            ],
            [
             1,
             "#f0f921"
            ]
           ],
           "sequentialminus": [
            [
             0,
             "#0d0887"
            ],
            [
             0.1111111111111111,
             "#46039f"
            ],
            [
             0.2222222222222222,
             "#7201a8"
            ],
            [
             0.3333333333333333,
             "#9c179e"
            ],
            [
             0.4444444444444444,
             "#bd3786"
            ],
            [
             0.5555555555555556,
             "#d8576b"
            ],
            [
             0.6666666666666666,
             "#ed7953"
            ],
            [
             0.7777777777777778,
             "#fb9f3a"
            ],
            [
             0.8888888888888888,
             "#fdca26"
            ],
            [
             1,
             "#f0f921"
            ]
           ]
          },
          "colorway": [
           "#636efa",
           "#EF553B",
           "#00cc96",
           "#ab63fa",
           "#FFA15A",
           "#19d3f3",
           "#FF6692",
           "#B6E880",
           "#FF97FF",
           "#FECB52"
          ],
          "font": {
           "color": "#2a3f5f"
          },
          "geo": {
           "bgcolor": "white",
           "lakecolor": "white",
           "landcolor": "#E5ECF6",
           "showlakes": true,
           "showland": true,
           "subunitcolor": "white"
          },
          "hoverlabel": {
           "align": "left"
          },
          "hovermode": "closest",
          "mapbox": {
           "style": "light"
          },
          "paper_bgcolor": "white",
          "plot_bgcolor": "#E5ECF6",
          "polar": {
           "angularaxis": {
            "gridcolor": "white",
            "linecolor": "white",
            "ticks": ""
           },
           "bgcolor": "#E5ECF6",
           "radialaxis": {
            "gridcolor": "white",
            "linecolor": "white",
            "ticks": ""
           }
          },
          "scene": {
           "xaxis": {
            "backgroundcolor": "#E5ECF6",
            "gridcolor": "white",
            "gridwidth": 2,
            "linecolor": "white",
            "showbackground": true,
            "ticks": "",
            "zerolinecolor": "white"
           },
           "yaxis": {
            "backgroundcolor": "#E5ECF6",
            "gridcolor": "white",
            "gridwidth": 2,
            "linecolor": "white",
            "showbackground": true,
            "ticks": "",
            "zerolinecolor": "white"
           },
           "zaxis": {
            "backgroundcolor": "#E5ECF6",
            "gridcolor": "white",
            "gridwidth": 2,
            "linecolor": "white",
            "showbackground": true,
            "ticks": "",
            "zerolinecolor": "white"
           }
          },
          "shapedefaults": {
           "line": {
            "color": "#2a3f5f"
           }
          },
          "ternary": {
           "aaxis": {
            "gridcolor": "white",
            "linecolor": "white",
            "ticks": ""
           },
           "baxis": {
            "gridcolor": "white",
            "linecolor": "white",
            "ticks": ""
           },
           "bgcolor": "#E5ECF6",
           "caxis": {
            "gridcolor": "white",
            "linecolor": "white",
            "ticks": ""
           }
          },
          "title": {
           "x": 0.05
          },
          "xaxis": {
           "automargin": true,
           "gridcolor": "white",
           "linecolor": "white",
           "ticks": "",
           "title": {
            "standoff": 15
           },
           "zerolinecolor": "white",
           "zerolinewidth": 2
          },
          "yaxis": {
           "automargin": true,
           "gridcolor": "white",
           "linecolor": "white",
           "ticks": "",
           "title": {
            "standoff": 15
           },
           "zerolinecolor": "white",
           "zerolinewidth": 2
          }
         }
        },
        "title": {
         "font": {
          "color": "darkblue",
          "size": 18
         },
         "text": "Customer Segment Distribution",
         "x": 0.5
        }
       }
      },
      "image/png": "[encoded data removed]",
      "text/html": [
       "<div>                            <div id=\"994f663f-7361-4e3f-a078-d8f469abe161\" class=\"plotly-graph-div\" style=\"height:525px; width:100%;\"></div>            <script type=\"text/javascript\">                require([\"plotly\"], function(Plotly) {                    window.PLOTLYENV=window.PLOTLYENV || {};                                    if (document.getElementById(\"994f663f-7361-4e3f-a078-d8f469abe161\")) {                    Plotly.newPlot(                        \"994f663f-7361-4e3f-a078-d8f469abe161\",                        [{\"branchvalues\":\"total\",\"customdata\":[[117.0],[476.0],[103.0],[1058.0],[1185.0],[486.0],[593.0],[241.0],[456.0],[520.0],[118.0]],\"domain\":{\"x\":[0.0,1.0],\"y\":[0.0,1.0]},\"hovertemplate\":\"labels=%{label}\\u003cbr\\u003ecount_sum=%{value}\\u003cbr\\u003eparent=%{parent}\\u003cbr\\u003eid=%{id}\\u003cbr\\u003ecount=%{color}\\u003cextra\\u003e\\u003c\\u002fextra\\u003e\",\"ids\":[\"About to Sleep\",\"At Risk\",\"Cannot Lose Them\",\"Champion\",\"Hibernating\",\"Lost\",\"Loyal Customer\",\"Need Attention\",\"New Customer\",\"Potential Loyalist\",\"Promising\"],\"labels\":[\"About to Sleep\",\"At Risk\",\"Cannot Lose Them\",\"Champion\",\"Hibernating\",\"Lost\",\"Loyal Customer\",\"Need Attention\",\"New Customer\",\"Potential Loyalist\",\"Promising\"],\"marker\":{\"coloraxis\":\"coloraxis\",\"colors\":[117.0,476.0,103.0,1058.0,1185.0,486.0,593.0,241.0,456.0,520.0,118.0]},\"name\":\"\",\"parents\":[\"\",\"\",\"\",\"\",\"\",\"\",\"\",\"\",\"\",\"\",\"\"],\"values\":[117,476,103,1058,1185,486,593,241,456,520,118],\"type\":\"treemap\"}],                        {\"template\":{\"data\":{\"histogram2dcontour\":[{\"type\":\"histogram2dcontour\",\"colorbar\":{\"outlinewidth\":0,\"ticks\":\"\"},\"colorscale\":[[0.0,\"#0d0887\"],[0.1111111111111111,\"#46039f\"],[0.2222222222222222,\"#7201a8\"],[0.3333333333333333,\"#9c179e\"],[0.4444444444444444,\"#bd3786\"],[0.5555555555555556,\"#d8576b\"],[0.6666666666666666,\"#ed7953\"],[0.7777777777777778,\"#fb9f3a\"],[0.8888888888888888,\"#fdca26\"],[1.0,\"#f0f921\"]]}],\"choropleth\":[{\"type\":\"choropleth\",\"colorbar\":{\"outlinewidth\":0,\"ticks\":\"\"}}],\"histogram2d\":[{\"type\":\"histogram2d\",\"colorbar\":{\"outlinewidth\":0,\"ticks\":\"\"},\"colorscale\":[[0.0,\"#0d0887\"],[0.1111111111111111,\"#46039f\"],[0.2222222222222222,\"#7201a8\"],[0.3333333333333333,\"#9c179e\"],[0.4444444444444444,\"#bd3786\"],[0.5555555555555556,\"#d8576b\"],[0.6666666666666666,\"#ed7953\"],[0.7777777777777778,\"#fb9f3a\"],[0.8888888888888888,\"#fdca26\"],[1.0,\"#f0f921\"]]}],\"heatmap\":[{\"type\":\"heatmap\",\"colorbar\":{\"outlinewidth\":0,\"ticks\":\"\"},\"colorscale\":[[0.0,\"#0d0887\"],[0.1111111111111111,\"#46039f\"],[0.2222222222222222,\"#7201a8\"],[0.3333333333333333,\"#9c179e\"],[0.4444444444444444,\"#bd3786\"],[0.5555555555555556,\"#d8576b\"],[0.6666666666666666,\"#ed7953\"],[0.7777777777777778,\"#fb9f3a\"],[0.8888888888888888,\"#fdca26\"],[1.0,\"#f0f921\"]]}],\"heatmapgl\":[{\"type\":\"heatmapgl\",\"colorbar\":{\"outlinewidth\":0,\"ticks\":\"\"},\"colorscale\":[[0.0,\"#0d0887\"],[0.1111111111111111,\"#46039f\"],[0.2222222222222222,\"#7201a8\"],[0.3333333333333333,\"#9c179e\"],[0.4444444444444444,\"#bd3786\"],[0.5555555555555556,\"#d8576b\"],[0.6666666666666666,\"#ed7953\"],[0.7777777777777778,\"#fb9f3a\"],[0.8888888888888888,\"#fdca26\"],[1.0,\"#f0f921\"]]}],\"contourcarpet\":[{\"type\":\"contourcarpet\",\"colorbar\":{\"outlinewidth\":0,\"ticks\":\"\"}}],\"contour\":[{\"type\":\"contour\",\"colorbar\":{\"outlinewidth\":0,\"ticks\":\"\"},\"colorscale\":[[0.0,\"#0d0887\"],[0.1111111111111111,\"#46039f\"],[0.2222222222222222,\"#7201a8\"],[0.3333333333333333,\"#9c179e\"],[0.4444444444444444,\"#bd3786\"],[0.5555555555555556,\"#d8576b\"],[0.6666666666666666,\"#ed7953\"],[0.7777777777777778,\"#fb9f3a\"],[0.8888888888888888,\"#fdca26\"],[1.0,\"#f0f921\"]]}],\"surface\":[{\"type\":\"surface\",\"colorbar\":{\"outlinewidth\":0,\"ticks\":\"\"},\"colorscale\":[[0.0,\"#0d0887\"],[0.1111111111111111,\"#46039f\"],[0.2222222222222222,\"#7201a8\"],[0.3333333333333333,\"#9c179e\"],[0.4444444444444444,\"#bd3786\"],[0.5555555555555556,\"#d8576b\"],[0.6666666666666666,\"#ed7953\"],[0.7777777777777778,\"#fb9f3a\"],[0.8888888888888888,\"#fdca26\"],[1.0,\"#f0f921\"]]}],\"mesh3d\":[{\"type\":\"mesh3d\",\"colorbar\":{\"outlinewidth\":0,\"ticks\":\"\"}}],\"scatter\":[{\"fillpattern\":{\"fillmode\":\"overlay\",\"size\":10,\"solidity\":0.2},\"type\":\"scatter\"}],\"parcoords\":[{\"type\":\"parcoords\",\"line\":{\"colorbar\":{\"outlinewidth\":0,\"ticks\":\"\"}}}],\"scatterpolargl\":[{\"type\":\"scatterpolargl\",\"marker\":{\"colorbar\":{\"outlinewidth\":0,\"ticks\":\"\"}}}],\"bar\":[{\"error_x\":{\"color\":\"#2a3f5f\"},\"error_y\":{\"color\":\"#2a3f5f\"},\"marker\":{\"line\":{\"color\":\"#E5ECF6\",\"width\":0.5},\"pattern\":{\"fillmode\":\"overlay\",\"size\":10,\"solidity\":0.2}},\"type\":\"bar\"}],\"scattergeo\":[{\"type\":\"scattergeo\",\"marker\":{\"colorbar\":{\"outlinewidth\":0,\"ticks\":\"\"}}}],\"scatterpolar\":[{\"type\":\"scatterpolar\",\"marker\":{\"colorbar\":{\"outlinewidth\":0,\"ticks\":\"\"}}}],\"histogram\":[{\"marker\":{\"pattern\":{\"fillmode\":\"overlay\",\"size\":10,\"solidity\":0.2}},\"type\":\"histogram\"}],\"scattergl\":[{\"type\":\"scattergl\",\"marker\":{\"colorbar\":{\"outlinewidth\":0,\"ticks\":\"\"}}}],\"scatter3d\":[{\"type\":\"scatter3d\",\"line\":{\"colorbar\":{\"outlinewidth\":0,\"ticks\":\"\"}},\"marker\":{\"colorbar\":{\"outlinewidth\":0,\"ticks\":\"\"}}}],\"scattermapbox\":[{\"type\":\"scattermapbox\",\"marker\":{\"colorbar\":{\"outlinewidth\":0,\"ticks\":\"\"}}}],\"scatterternary\":[{\"type\":\"scatterternary\",\"marker\":{\"colorbar\":{\"outlinewidth\":0,\"ticks\":\"\"}}}],\"scattercarpet\":[{\"type\":\"scattercarpet\",\"marker\":{\"colorbar\":{\"outlinewidth\":0,\"ticks\":\"\"}}}],\"carpet\":[{\"aaxis\":{\"endlinecolor\":\"#2a3f5f\",\"gridcolor\":\"white\",\"linecolor\":\"white\",\"minorgridcolor\":\"white\",\"startlinecolor\":\"#2a3f5f\"},\"baxis\":{\"endlinecolor\":\"#2a3f5f\",\"gridcolor\":\"white\",\"linecolor\":\"white\",\"minorgridcolor\":\"white\",\"startlinecolor\":\"#2a3f5f\"},\"type\":\"carpet\"}],\"table\":[{\"cells\":{\"fill\":{\"color\":\"#EBF0F8\"},\"line\":{\"color\":\"white\"}},\"header\":{\"fill\":{\"color\":\"#C8D4E3\"},\"line\":{\"color\":\"white\"}},\"type\":\"table\"}],\"barpolar\":[{\"marker\":{\"line\":{\"color\":\"#E5ECF6\",\"width\":0.5},\"pattern\":{\"fillmode\":\"overlay\",\"size\":10,\"solidity\":0.2}},\"type\":\"barpolar\"}],\"pie\":[{\"automargin\":true,\"type\":\"pie\"}]},\"layout\":{\"autotypenumbers\":\"strict\",\"colorway\":[\"#636efa\",\"#EF553B\",\"#00cc96\",\"#ab63fa\",\"#FFA15A\",\"#19d3f3\",\"#FF6692\",\"#B6E880\",\"#FF97FF\",\"#FECB52\"],\"font\":{\"color\":\"#2a3f5f\"},\"hovermode\":\"closest\",\"hoverlabel\":{\"align\":\"left\"},\"paper_bgcolor\":\"white\",\"plot_bgcolor\":\"#E5ECF6\",\"polar\":{\"bgcolor\":\"#E5ECF6\",\"angularaxis\":{\"gridcolor\":\"white\",\"linecolor\":\"white\",\"ticks\":\"\"},\"radialaxis\":{\"gridcolor\":\"white\",\"linecolor\":\"white\",\"ticks\":\"\"}},\"ternary\":{\"bgcolor\":\"#E5ECF6\",\"aaxis\":{\"gridcolor\":\"white\",\"linecolor\":\"white\",\"ticks\":\"\"},\"baxis\":{\"gridcolor\":\"white\",\"linecolor\":\"white\",\"ticks\":\"\"},\"caxis\":{\"gridcolor\":\"white\",\"linecolor\":\"white\",\"ticks\":\"\"}},\"coloraxis\":{\"colorbar\":{\"outlinewidth\":0,\"ticks\":\"\"}},\"colorscale\":{\"sequential\":[[0.0,\"#0d0887\"],[0.1111111111111111,\"#46039f\"],[0.2222222222222222,\"#7201a8\"],[0.3333333333333333,\"#9c179e\"],[0.4444444444444444,\"#bd3786\"],[0.5555555555555556,\"#d8576b\"],[0.6666666666666666,\"#ed7953\"],[0.7777777777777778,\"#fb9f3a\"],[0.8888888888888888,\"#fdca26\"],[1.0,\"#f0f921\"]],\"sequentialminus\":[[0.0,\"#0d0887\"],[0.1111111111111111,\"#46039f\"],[0.2222222222222222,\"#7201a8\"],[0.3333333333333333,\"#9c179e\"],[0.4444444444444444,\"#bd3786\"],[0.5555555555555556,\"#d8576b\"],[0.6666666666666666,\"#ed7953\"],[0.7777777777777778,\"#fb9f3a\"],[0.8888888888888888,\"#fdca26\"],[1.0,\"#f0f921\"]],\"diverging\":[[0,\"#8e0152\"],[0.1,\"#c51b7d\"],[0.2,\"#de77ae\"],[0.3,\"#f1b6da\"],[0.4,\"#fde0ef\"],[0.5,\"#f7f7f7\"],[0.6,\"#e6f5d0\"],[0.7,\"#b8e186\"],[0.8,\"#7fbc41\"],[0.9,\"#4d9221\"],[1,\"#276419\"]]},\"xaxis\":{\"gridcolor\":\"white\",\"linecolor\":\"white\",\"ticks\":\"\",\"title\":{\"standoff\":15},\"zerolinecolor\":\"white\",\"automargin\":true,\"zerolinewidth\":2},\"yaxis\":{\"gridcolor\":\"white\",\"linecolor\":\"white\",\"ticks\":\"\",\"title\":{\"standoff\":15},\"zerolinecolor\":\"white\",\"automargin\":true,\"zerolinewidth\":2},\"scene\":{\"xaxis\":{\"backgroundcolor\":\"#E5ECF6\",\"gridcolor\":\"white\",\"linecolor\":\"white\",\"showbackground\":true,\"ticks\":\"\",\"zerolinecolor\":\"white\",\"gridwidth\":2},\"yaxis\":{\"backgroundcolor\":\"#E5ECF6\",\"gridcolor\":\"white\",\"linecolor\":\"white\",\"showbackground\":true,\"ticks\":\"\",\"zerolinecolor\":\"white\",\"gridwidth\":2},\"zaxis\":{\"backgroundcolor\":\"#E5ECF6\",\"gridcolor\":\"white\",\"linecolor\":\"white\",\"showbackground\":true,\"ticks\":\"\",\"zerolinecolor\":\"white\",\"gridwidth\":2}},\"shapedefaults\":{\"line\":{\"color\":\"#2a3f5f\"}},\"annotationdefaults\":{\"arrowcolor\":\"#2a3f5f\",\"arrowhead\":0,\"arrowwidth\":1},\"geo\":{\"bgcolor\":\"white\",\"landcolor\":\"#E5ECF6\",\"subunitcolor\":\"white\",\"showland\":true,\"showlakes\":true,\"lakecolor\":\"white\"},\"title\":{\"x\":0.05},\"mapbox\":{\"style\":\"light\"}}},\"coloraxis\":{\"colorbar\":{\"title\":{\"text\":\"count\"}},\"colorscale\":[[0.0,\"rgb(77,0,75)\"],[0.125,\"rgb(129,15,124)\"],[0.25,\"rgb(136,65,157)\"],[0.375,\"rgb(140,107,177)\"],[0.5,\"rgb(140,150,198)\"],[0.625,\"rgb(158,188,218)\"],[0.75,\"rgb(191,211,230)\"],[0.875,\"rgb(224,236,244)\"],[1.0,\"rgb(247,252,253)\"]]},\"legend\":{\"tracegroupgap\":0},\"title\":{\"text\":\"Customer Segment Distribution\",\"font\":{\"size\":18,\"color\":\"darkblue\"},\"x\":0.5},\"margin\":{\"t\":50,\"l\":25,\"r\":25,\"b\":25}},                        {\"responsive\": true}                    ).then(function(){\n",
       "                            \n",
       "var gd = document.getElementById('994f663f-7361-4e3f-a078-d8f469abe161');\n",
       "var x = new MutationObserver(function (mutations, observer) {{\n",
       "        var display = window.getComputedStyle(gd).display;\n",
       "        if (!display || display === 'none') {{\n",
       "            console.log([gd, 'removed!']);\n",
       "            Plotly.purge(gd);\n",
       "            observer.disconnect();\n",
       "        }}\n",
       "}});\n",
       "\n",
       "// Listen for the removal of the full notebook cells\n",
       "var notebookContainer = gd.closest('#notebook-container');\n",
       "if (notebookContainer) {{\n",
       "    x.observe(notebookContainer, {childList: true});\n",
       "}}\n",
       "\n",
       "// Listen for the clearing of the current output cell\n",
       "var outputEl = gd.closest('.output');\n",
       "if (outputEl) {{\n",
       "    x.observe(outputEl, {childList: true});\n",
       "}}\n",
       "\n",
       "                        })                };                });            </script>        </div>"
      ]
     },
     "metadata": {},
     "output_type": "display_data"
    }
   ],
   "source": [
    "# Using rfm_df as the DataFrame containing the RFM analysis results\n",
    "segment_counts = rfm_df['Customer Segment'].value_counts().reset_index()\n",
    "segment_counts.columns = ['Customer Segment', 'count']\n",
    "\n",
    "# Create an interactive treemap plot\n",
    "fig = px.treemap(\n",
    "    segment_counts,\n",
    "    path=['Customer Segment'],\n",
    "    values='count',\n",
    "    color='count',\n",
    "    color_continuous_scale='BuPu_r',\n",
    "    title='Customer Segment Distribution'\n",
    ")\n",
    "\n",
    "# Update the layout for better visualization\n",
    "fig.update_layout(\n",
    "    title_font_size=18,\n",
    "    title_font_color='darkblue',\n",
    "    title_x=0.5,\n",
    "    margin=dict(t=50, l=25, r=25, b=25)\n",
    ")\n",
    "\n",
    "# Display the plot\n",
    "fig.show()"
   ]
  },
  {
   "cell_type": "code",
   "execution_count": 23,
   "id": "cd5719c0-fe5d-414e-938b-cec9c2a04698",
   "metadata": {
    "colab": {
     "base_uri": "https://localhost:8080/",
     "height": 725
    },
    "id": "BTuikCCNrRW7",
    "outputId": "7b459b5f-b138-430c-ad3f-c076246e1a07"
   },
   "outputs": [
    {
     "data": {
      "image/png": "[encoded data removed]",
      "text/plain": [
       "<Figure size 3000x1500 with 1 Axes>"
      ]
     },
     "metadata": {},
     "output_type": "display_data"
    }
   ],
   "source": [
    "segment_summary = rfm_df.groupby('Customer Segment').agg(\n",
    "    avg_days_since_purchase=('Recency', 'mean'),\n",
    "    avg_sales_per_customer=('Monetary', 'mean'),\n",
    "    customer_count=('Customer ID', 'count')\n",
    ").reset_index()\n",
    "\n",
    "plt.figure(figsize=(30, 15))\n",
    "scatter = plt.scatter(\n",
    "    segment_summary['avg_days_since_purchase'],\n",
    "    segment_summary['avg_sales_per_customer'],\n",
    "    s=segment_summary['customer_count'] * 10,\n",
    "    c=sns.color_palette('BuPu', len(segment_summary)),\n",
    "    alpha=0.8\n",
    ")\n",
    "\n",
    "# Labeling the axes and title\n",
    "plt.xticks(fontsize=18)\n",
    "plt.yticks(fontsize=18)\n",
    "plt.xlabel('Average days since the last purchase', fontsize=20)\n",
    "plt.ylabel('Average sales per customer', fontsize=20)\n",
    "plt.title('RFM segmentation of customers', fontsize=25)\n",
    "plt.grid(True)\n",
    "\n",
    "for i, text in enumerate(segment_summary['Customer Segment']):\n",
    "    plt.annotate(\n",
    "        text,\n",
    "        (segment_summary['avg_days_since_purchase'][i], segment_summary['avg_sales_per_customer'][i]),\n",
    "        ha='center',\n",
    "        va='center',\n",
    "        weight='bold'\n",
    "    )\n",
    "\n",
    "plt.gca().invert_xaxis()\n",
    "\n",
    "plt.xlim(segment_summary['avg_days_since_purchase'].max() + 50, segment_summary['avg_days_since_purchase'].min() - 50)\n",
    "plt.ylim(0, segment_summary['avg_sales_per_customer'].max() + 100)\n",
    "\n",
    "plt.show()\n"
   ]
  },
  {
   "cell_type": "code",
   "execution_count": 66,
   "id": "358204a6-a702-488d-bdf6-a61cfed52cda",
   "metadata": {},
   "outputs": [
    {
     "data": {
      "text/html": [
       "<div>\n",
       "<style scoped>\n",
       "    .dataframe tbody tr th:only-of-type {\n",
       "        vertical-align: middle;\n",
       "    }\n",
       "\n",
       "    .dataframe tbody tr th {\n",
       "        vertical-align: top;\n",
       "    }\n",
       "\n",
       "    .dataframe thead th {\n",
       "        text-align: right;\n",
       "    }\n",
       "</style>\n",
       "<table border=\"1\" class=\"dataframe\">\n",
       "  <thead>\n",
       "    <tr style=\"text-align: right;\">\n",
       "      <th></th>\n",
       "      <th>Customer Segment</th>\n",
       "      <th>avg_days_since_purchase</th>\n",
       "      <th>avg_sales_per_customer</th>\n",
       "      <th>customer_count</th>\n",
       "    </tr>\n",
       "  </thead>\n",
       "  <tbody>\n",
       "    <tr>\n",
       "      <th>0</th>\n",
       "      <td>About to Sleep</td>\n",
       "      <td>205.683761</td>\n",
       "      <td>49.306496</td>\n",
       "      <td>117</td>\n",
       "    </tr>\n",
       "    <tr>\n",
       "      <th>1</th>\n",
       "      <td>At Risk</td>\n",
       "      <td>387.073529</td>\n",
       "      <td>409.728870</td>\n",
       "      <td>476</td>\n",
       "    </tr>\n",
       "  </tbody>\n",
       "</table>\n",
       "</div>"
      ],
      "text/plain": [
       "  Customer Segment  avg_days_since_purchase  avg_sales_per_customer  \\\n",
       "0   About to Sleep               205.683761               49.306496   \n",
       "1          At Risk               387.073529              409.728870   \n",
       "\n",
       "   customer_count  \n",
       "0             117  \n",
       "1             476  "
      ]
     },
     "execution_count": 66,
     "metadata": {},
     "output_type": "execute_result"
    }
   ],
   "source": [
    "segment_summary[segment_summary['Customer Segment'].isin(['About to Sleep', 'At Risk'])]"
   ]
  },
  {
   "cell_type": "markdown",
   "id": "7fa953dd-6710-496f-9d58-6796340e3158",
   "metadata": {},
   "source": [
    "## Export the segmented dataset"
   ]
  },
  {
   "cell_type": "code",
   "execution_count": 25,
   "id": "f6601701-45e9-4ad1-9c8f-6d60a9ec51e4",
   "metadata": {
    "id": "YwmORaaWrRW-"
   },
   "outputs": [],
   "source": [
    "rfm_df.to_csv('rfm.csv', index=False)"
   ]
  }
 ],
 "metadata": {
  "kernelspec": {
   "display_name": "Python 3 (ipykernel)",
   "language": "python",
   "name": "python3"
  },
  "language_info": {
   "codemirror_mode": {
    "name": "ipython",
    "version": 3
   },
   "file_extension": ".py",
   "mimetype": "text/x-python",
   "name": "python",
   "nbconvert_exporter": "python",
   "pygments_lexer": "ipython3",
   "version": "3.12.3"
  }
 },
 "nbformat": 4,
 "nbformat_minor": 5
}
